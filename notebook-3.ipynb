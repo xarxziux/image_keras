{
 "cells": [
  {
   "cell_type": "markdown",
   "metadata": {},
   "source": [
    "### Building an image classification model using very little data  \n",
    "\n",
    "Based on the tutorial by Francois Chollet @fchollet https://blog.keras.io/building-powerful-image-classification-models-using-very-little-data.html and the workbook by Guillaume Dominici https://github.com/gggdominici/keras-workshop\n",
    "\n",
    "This tutorial presents several ways to build an image classifier using keras from just a few hundred or thousand pictures from each class you want to be able to recognize.\n",
    "\n",
    "We will go over the following options:  \n",
    "\n",
    "- training a small network from scratch (as a baseline)  \n",
    "- using the bottleneck features of a pre-trained network  \n",
    "- fine-tuning the top layers of a pre-trained network  \n",
    "  \n",
    "This will lead us to cover the following Keras features:   \n",
    "  \n",
    "- fit_generator for training Keras a model using Python data generators  \n",
    "- ImageDataGenerator for real-time data augmentation  \n",
    "- layer freezing and model fine-tuning  \n",
    "- ...and more.  \n"
   ]
  },
  {
   "cell_type": "markdown",
   "metadata": {},
   "source": [
    "## Data"
   ]
  },
  {
   "cell_type": "markdown",
   "metadata": {},
   "source": [
    "Data can be downloaded at:\n",
    "https://www.kaggle.com/c/dogs-vs-cats/data  \n",
    "All you need is the train set  \n",
    "The recommended folder structure is:  "
   ]
  },
  {
   "cell_type": "markdown",
   "metadata": {},
   "source": [
    "### Folder structure"
   ]
  },
  {
   "cell_type": "markdown",
   "metadata": {},
   "source": [
    "```python\n",
    "data/\n",
    "    train/\n",
    "        dogs/ ### 1024 pictures\n",
    "            dog001.jpg\n",
    "            dog002.jpg\n",
    "            ...\n",
    "        cats/ ### 1024 pictures\n",
    "            cat001.jpg\n",
    "            cat002.jpg\n",
    "            ...\n",
    "    validation/\n",
    "        dogs/ ### 416 pictures\n",
    "            dog001.jpg\n",
    "            dog002.jpg\n",
    "            ...\n",
    "        cats/ ### 416 pictures\n",
    "            cat001.jpg\n",
    "            cat002.jpg\n",
    "            ...\n",
    "```\n",
    "Note : for this example we only consider 2x1000 training images and 2x400 testing images among the 2x12500 available."
   ]
  },
  {
   "cell_type": "markdown",
   "metadata": {},
   "source": [
    "The github repo includes about 1500 images for this model. The original Kaggle dataset is much larger. The purpose of this demo is to show how you can build models with smaller size datasets. You should be able to improve this model by using more data."
   ]
  },
  {
   "cell_type": "markdown",
   "metadata": {},
   "source": [
    "### Data loading"
   ]
  },
  {
   "cell_type": "code",
   "execution_count": 1,
   "metadata": {
    "collapsed": false
   },
   "outputs": [
    {
     "name": "stdout",
     "output_type": "stream",
     "text": [
      "Requirement already satisfied: pillow in /home/blackrebel/anaconda2/lib/python2.7/site-packages\n",
      "Using TensorFlow backend.\n"
     ]
    }
   ],
   "source": [
    "##This notebook is built around using tensorflow as the backend for keras\n",
    "!pip install pillow\n",
    "!KERAS_BACKEND=tensorflow python -c \"from keras import backend\""
   ]
  },
  {
   "cell_type": "code",
   "execution_count": 2,
   "metadata": {
    "collapsed": false
   },
   "outputs": [
    {
     "name": "stderr",
     "output_type": "stream",
     "text": [
      "Using TensorFlow backend.\n"
     ]
    }
   ],
   "source": [
    "import os\n",
    "import numpy as np\n",
    "from keras.models import Sequential\n",
    "from keras.layers import Activation, Dropout, Flatten, Dense\n",
    "from keras.preprocessing.image import ImageDataGenerator\n",
    "from keras.layers import Convolution2D, MaxPooling2D, ZeroPadding2D\n",
    "from keras import optimizers"
   ]
  },
  {
   "cell_type": "code",
   "execution_count": 3,
   "metadata": {
    "collapsed": true
   },
   "outputs": [],
   "source": [
    "# dimensions of our images.\n",
    "img_width, img_height = 150, 150\n",
    "\n",
    "train_data_dir = 'data/train'\n",
    "validation_data_dir = 'data/validation'"
   ]
  },
  {
   "cell_type": "markdown",
   "metadata": {},
   "source": [
    "### Imports"
   ]
  },
  {
   "cell_type": "code",
   "execution_count": 4,
   "metadata": {
    "collapsed": false
   },
   "outputs": [
    {
     "name": "stdout",
     "output_type": "stream",
     "text": [
      "Found 2048 images belonging to 2 classes.\n",
      "Found 832 images belonging to 2 classes.\n"
     ]
    }
   ],
   "source": [
    "# used to rescale the pixel values from [0, 255] to [0, 1] interval\n",
    "datagen = ImageDataGenerator(rescale=1./255)\n",
    "\n",
    "# automagically retrieve images and their classes for train and validation sets\n",
    "train_generator = datagen.flow_from_directory(\n",
    "        train_data_dir,\n",
    "        target_size=(img_width, img_height),\n",
    "        batch_size=16,\n",
    "        class_mode='binary')\n",
    "\n",
    "validation_generator = datagen.flow_from_directory(\n",
    "        validation_data_dir,\n",
    "        target_size=(img_width, img_height),\n",
    "        batch_size=32,\n",
    "        class_mode='binary')"
   ]
  },
  {
   "cell_type": "markdown",
   "metadata": {},
   "source": [
    "## Small Conv Net"
   ]
  },
  {
   "cell_type": "markdown",
   "metadata": {},
   "source": [
    "### Model architecture definition"
   ]
  },
  {
   "cell_type": "code",
   "execution_count": 5,
   "metadata": {
    "collapsed": false
   },
   "outputs": [],
   "source": [
    "model = Sequential()\n",
    "model.add(Convolution2D(32, 3, 3, input_shape=(img_width, img_height,3)))\n",
    "model.add(Activation('relu'))\n",
    "model.add(MaxPooling2D(pool_size=(2, 2)))\n",
    "\n",
    "model.add(Convolution2D(32, 3, 3))\n",
    "model.add(Activation('relu'))\n",
    "model.add(MaxPooling2D(pool_size=(2, 2)))\n",
    "\n",
    "model.add(Convolution2D(64, 3, 3))\n",
    "model.add(Activation('relu'))\n",
    "model.add(MaxPooling2D(pool_size=(2, 2)))\n",
    "\n",
    "model.add(Flatten())\n",
    "model.add(Dense(64))\n",
    "model.add(Activation('relu'))\n",
    "model.add(Dropout(0.5))\n",
    "model.add(Dense(1))\n",
    "model.add(Activation('sigmoid'))"
   ]
  },
  {
   "cell_type": "code",
   "execution_count": 6,
   "metadata": {
    "collapsed": true
   },
   "outputs": [],
   "source": [
    "model.compile(loss='binary_crossentropy',\n",
    "              optimizer='rmsprop',\n",
    "              metrics=['accuracy'])"
   ]
  },
  {
   "cell_type": "markdown",
   "metadata": {},
   "source": [
    "### Training"
   ]
  },
  {
   "cell_type": "code",
   "execution_count": 7,
   "metadata": {
    "collapsed": true
   },
   "outputs": [],
   "source": [
    "nb_epoch = 30\n",
    "nb_train_samples = 2048\n",
    "nb_validation_samples = 832"
   ]
  },
  {
   "cell_type": "code",
   "execution_count": 8,
   "metadata": {
    "collapsed": false
   },
   "outputs": [
    {
     "name": "stdout",
     "output_type": "stream",
     "text": [
      "Epoch 1/30\n",
      "2048/2048 [==============================] - 183s - loss: 0.6962 - acc: 0.4844 - val_loss: 0.6909 - val_acc: 0.5000\n",
      "Epoch 2/30\n",
      "2048/2048 [==============================] - 197s - loss: 0.6755 - acc: 0.5659 - val_loss: 0.6641 - val_acc: 0.5805\n",
      "Epoch 3/30\n",
      "2048/2048 [==============================] - 213s - loss: 0.6437 - acc: 0.6157 - val_loss: 0.6157 - val_acc: 0.6526\n",
      "Epoch 4/30\n",
      "2048/2048 [==============================] - 225s - loss: 0.6113 - acc: 0.6577 - val_loss: 0.6405 - val_acc: 0.6502\n",
      "Epoch 5/30\n",
      "2048/2048 [==============================] - 215s - loss: 0.5909 - acc: 0.6787 - val_loss: 0.7690 - val_acc: 0.6406\n",
      "Epoch 6/30\n",
      "2048/2048 [==============================] - 219s - loss: 0.5699 - acc: 0.7065 - val_loss: 0.6831 - val_acc: 0.6575\n",
      "Epoch 7/30\n",
      "2048/2048 [==============================] - 224s - loss: 0.5542 - acc: 0.7241 - val_loss: 0.6188 - val_acc: 0.6731\n",
      "Epoch 8/30\n",
      "2048/2048 [==============================] - 229s - loss: 0.5353 - acc: 0.7324 - val_loss: 0.8094 - val_acc: 0.6526\n",
      "Epoch 9/30\n",
      "2048/2048 [==============================] - 223s - loss: 0.5181 - acc: 0.7393 - val_loss: 0.6216 - val_acc: 0.6731\n",
      "Epoch 10/30\n",
      "2048/2048 [==============================] - 223s - loss: 0.4862 - acc: 0.7661 - val_loss: 0.6730 - val_acc: 0.6839\n",
      "Epoch 11/30\n",
      "2048/2048 [==============================] - 227s - loss: 0.4571 - acc: 0.7886 - val_loss: 0.7032 - val_acc: 0.6430\n",
      "Epoch 12/30\n",
      "2048/2048 [==============================] - 232s - loss: 0.4235 - acc: 0.8042 - val_loss: 0.6646 - val_acc: 0.6959\n",
      "Epoch 13/30\n",
      "2048/2048 [==============================] - 232s - loss: 0.3964 - acc: 0.8252 - val_loss: 0.7777 - val_acc: 0.6863\n",
      "Epoch 14/30\n",
      "2048/2048 [==============================] - 232s - loss: 0.3748 - acc: 0.8398 - val_loss: 0.8523 - val_acc: 0.6611\n",
      "Epoch 15/30\n",
      "2048/2048 [==============================] - 235s - loss: 0.3459 - acc: 0.8501 - val_loss: 1.0240 - val_acc: 0.6899\n",
      "Epoch 16/30\n",
      "2048/2048 [==============================] - 230s - loss: 0.3091 - acc: 0.8730 - val_loss: 0.8544 - val_acc: 0.6983\n",
      "Epoch 17/30\n",
      "2048/2048 [==============================] - 231s - loss: 0.3029 - acc: 0.8745 - val_loss: 0.8882 - val_acc: 0.6911\n",
      "Epoch 18/30\n",
      "2048/2048 [==============================] - 229s - loss: 0.2739 - acc: 0.8867 - val_loss: 1.0891 - val_acc: 0.6707\n",
      "Epoch 19/30\n",
      "2048/2048 [==============================] - 232s - loss: 0.2358 - acc: 0.8960 - val_loss: 1.2025 - val_acc: 0.6947\n",
      "Epoch 20/30\n",
      "2048/2048 [==============================] - 236s - loss: 0.2131 - acc: 0.9141 - val_loss: 1.2429 - val_acc: 0.6815\n",
      "Epoch 21/30\n",
      "2048/2048 [==============================] - 222s - loss: 0.2113 - acc: 0.9204 - val_loss: 1.3570 - val_acc: 0.6695\n",
      "Epoch 22/30\n",
      "2048/2048 [==============================] - 226s - loss: 0.2044 - acc: 0.9272 - val_loss: 1.4858 - val_acc: 0.6346\n",
      "Epoch 23/30\n",
      "2048/2048 [==============================] - 226s - loss: 0.1663 - acc: 0.9355 - val_loss: 1.4689 - val_acc: 0.6767\n",
      "Epoch 24/30\n",
      "2048/2048 [==============================] - 226s - loss: 0.1729 - acc: 0.9360 - val_loss: 1.5662 - val_acc: 0.6671\n",
      "Epoch 25/30\n",
      "2048/2048 [==============================] - 228s - loss: 0.1652 - acc: 0.9370 - val_loss: 2.0129 - val_acc: 0.6490\n",
      "Epoch 26/30\n",
      "2048/2048 [==============================] - 227s - loss: 0.1440 - acc: 0.9414 - val_loss: 1.8546 - val_acc: 0.6851\n",
      "Epoch 27/30\n",
      "2048/2048 [==============================] - 233s - loss: 0.1774 - acc: 0.9351 - val_loss: 2.0100 - val_acc: 0.6142\n",
      "Epoch 28/30\n",
      "2048/2048 [==============================] - 240s - loss: 0.1363 - acc: 0.9478 - val_loss: 2.1839 - val_acc: 0.6454\n",
      "Epoch 29/30\n",
      "2048/2048 [==============================] - 233s - loss: 0.1512 - acc: 0.9458 - val_loss: 1.8508 - val_acc: 0.6791\n",
      "Epoch 30/30\n",
      "2048/2048 [==============================] - 229s - loss: 0.1397 - acc: 0.9556 - val_loss: 1.9326 - val_acc: 0.6526\n"
     ]
    },
    {
     "data": {
      "text/plain": [
       "<keras.callbacks.History at 0x7f4b170f0790>"
      ]
     },
     "execution_count": 8,
     "metadata": {},
     "output_type": "execute_result"
    }
   ],
   "source": [
    "model.fit_generator(\n",
    "        train_generator,\n",
    "        samples_per_epoch=nb_train_samples,\n",
    "        nb_epoch=nb_epoch,\n",
    "        validation_data=validation_generator,\n",
    "        nb_val_samples=nb_validation_samples)"
   ]
  },
  {
   "cell_type": "code",
   "execution_count": 9,
   "metadata": {
    "collapsed": false
   },
   "outputs": [],
   "source": [
    "model.save_weights('models/basic_cnn_30_epochs_161128.h5')"
   ]
  },
  {
   "cell_type": "code",
   "execution_count": 10,
   "metadata": {
    "collapsed": true
   },
   "outputs": [],
   "source": [
    "#model.load_weights('models_trained/basic_cnn_20_epochs.h5')"
   ]
  },
  {
   "cell_type": "markdown",
   "metadata": {},
   "source": [
    "If your model successfully runs at one epoch, go back and it for 30 epochs by changing nb_epoch above.  I was able to get to an val_acc of 0.71 at 30 epochs.\n",
    "A copy of a pretrained network is available in the pretrained folder."
   ]
  },
  {
   "cell_type": "markdown",
   "metadata": {},
   "source": [
    "### Evaluating on validation set"
   ]
  },
  {
   "cell_type": "markdown",
   "metadata": {},
   "source": [
    "Computing loss and accuracy :"
   ]
  },
  {
   "cell_type": "code",
   "execution_count": 11,
   "metadata": {
    "collapsed": false
   },
   "outputs": [
    {
     "data": {
      "text/plain": [
       "[1.9326106997636647, 0.65264423076923073]"
      ]
     },
     "execution_count": 11,
     "metadata": {},
     "output_type": "execute_result"
    }
   ],
   "source": [
    "model.evaluate_generator(validation_generator, nb_validation_samples)"
   ]
  },
  {
   "cell_type": "markdown",
   "metadata": {},
   "source": [
    "Evolution of accuracy on training (blue) and validation (green) sets for 1 to 32 epochs :"
   ]
  },
  {
   "cell_type": "markdown",
   "metadata": {},
   "source": [
    "![Accuracy evolution](pictures/scores_no_dataaugmentation.png)"
   ]
  },
  {
   "cell_type": "markdown",
   "metadata": {},
   "source": [
    "**After ~10 epochs the neural network reach ~70% accuracy. We can witness overfitting, no progress is made over validation set in the next epochs**"
   ]
  },
  {
   "cell_type": "markdown",
   "metadata": {},
   "source": [
    "## Data augmentation for improving the model"
   ]
  },
  {
   "cell_type": "markdown",
   "metadata": {},
   "source": [
    "By applying random transformation to our train set, we artificially enhance our dataset with new unseen images.  \n",
    "This will hopefully reduce overfitting and allows better generalization capability for our network."
   ]
  },
  {
   "cell_type": "markdown",
   "metadata": {},
   "source": [
    "Example of data augmentation applied to a picture:\n",
    "![Example of data augmentation applied to a picture](pictures/cat_data_augmentation.png)"
   ]
  },
  {
   "cell_type": "code",
   "execution_count": 12,
   "metadata": {
    "collapsed": false
   },
   "outputs": [
    {
     "name": "stdout",
     "output_type": "stream",
     "text": [
      "Found 2048 images belonging to 2 classes.\n"
     ]
    }
   ],
   "source": [
    "train_datagen_augmented = ImageDataGenerator(\n",
    "        rescale=1./255,        # normalize pixel values to [0,1]\n",
    "        shear_range=0.2,       # randomly applies shearing transformation\n",
    "        zoom_range=0.2,        # randomly applies shearing transformation\n",
    "        horizontal_flip=True)  # randomly flip the images\n",
    "\n",
    "# same code as before\n",
    "train_generator_augmented = train_datagen_augmented.flow_from_directory(\n",
    "        train_data_dir,\n",
    "        target_size=(img_width, img_height),\n",
    "        batch_size=32,\n",
    "        class_mode='binary')"
   ]
  },
  {
   "cell_type": "code",
   "execution_count": 13,
   "metadata": {
    "collapsed": false
   },
   "outputs": [
    {
     "name": "stdout",
     "output_type": "stream",
     "text": [
      "Epoch 1/30\n",
      "2048/2048 [==============================] - 226s - loss: 0.6180 - acc: 0.6899 - val_loss: 0.6774 - val_acc: 0.6947\n",
      "Epoch 2/30\n",
      "2048/2048 [==============================] - 221s - loss: 0.5871 - acc: 0.6992 - val_loss: 0.7156 - val_acc: 0.7151\n",
      "Epoch 3/30\n",
      "2048/2048 [==============================] - 220s - loss: 0.5387 - acc: 0.7490 - val_loss: 0.6676 - val_acc: 0.7344\n",
      "Epoch 4/30\n",
      "2048/2048 [==============================] - 225s - loss: 0.5590 - acc: 0.7446 - val_loss: 0.5703 - val_acc: 0.7103\n",
      "Epoch 5/30\n",
      "2048/2048 [==============================] - 224s - loss: 0.5413 - acc: 0.7422 - val_loss: 0.6875 - val_acc: 0.7404\n",
      "Epoch 6/30\n",
      "2048/2048 [==============================] - 221s - loss: 0.5221 - acc: 0.7354 - val_loss: 0.6114 - val_acc: 0.6743\n",
      "Epoch 7/30\n",
      "2048/2048 [==============================] - 221s - loss: 0.5215 - acc: 0.7549 - val_loss: 0.5546 - val_acc: 0.7212\n",
      "Epoch 8/30\n",
      "2048/2048 [==============================] - 223s - loss: 0.4958 - acc: 0.7866 - val_loss: 0.5532 - val_acc: 0.7392\n",
      "Epoch 9/30\n",
      "2048/2048 [==============================] - 221s - loss: 0.5102 - acc: 0.7720 - val_loss: 0.5386 - val_acc: 0.7500\n",
      "Epoch 10/30\n",
      "2048/2048 [==============================] - 220s - loss: 0.4624 - acc: 0.7979 - val_loss: 0.5719 - val_acc: 0.7440\n",
      "Epoch 11/30\n",
      "2048/2048 [==============================] - 221s - loss: 0.4836 - acc: 0.7842 - val_loss: 0.5338 - val_acc: 0.7296\n",
      "Epoch 12/30\n",
      "2048/2048 [==============================] - 219s - loss: 0.4530 - acc: 0.7949 - val_loss: 0.5250 - val_acc: 0.7500\n",
      "Epoch 13/30\n",
      "2048/2048 [==============================] - 222s - loss: 0.4623 - acc: 0.7979 - val_loss: 0.6198 - val_acc: 0.7272\n",
      "Epoch 14/30\n",
      "2048/2048 [==============================] - 224s - loss: 0.4854 - acc: 0.7939 - val_loss: 0.5361 - val_acc: 0.7440\n",
      "Epoch 15/30\n",
      "2048/2048 [==============================] - 226s - loss: 0.4503 - acc: 0.8018 - val_loss: 0.5369 - val_acc: 0.7404\n",
      "Epoch 16/30\n",
      "2048/2048 [==============================] - 238s - loss: 0.4460 - acc: 0.8066 - val_loss: 0.5451 - val_acc: 0.7632\n",
      "Epoch 17/30\n",
      "2048/2048 [==============================] - 236s - loss: 0.4250 - acc: 0.8140 - val_loss: 0.5369 - val_acc: 0.7632\n",
      "Epoch 18/30\n",
      "2048/2048 [==============================] - 223s - loss: 0.4185 - acc: 0.8086 - val_loss: 0.5502 - val_acc: 0.7356\n",
      "Epoch 19/30\n",
      "2048/2048 [==============================] - 224s - loss: 0.4472 - acc: 0.7998 - val_loss: 0.5417 - val_acc: 0.7560\n",
      "Epoch 20/30\n",
      "2048/2048 [==============================] - 220s - loss: 0.4021 - acc: 0.8247 - val_loss: 0.5344 - val_acc: 0.7728\n",
      "Epoch 21/30\n",
      "2048/2048 [==============================] - 221s - loss: 0.4359 - acc: 0.8081 - val_loss: 0.5208 - val_acc: 0.7536\n",
      "Epoch 22/30\n",
      "2048/2048 [==============================] - 229s - loss: 0.4114 - acc: 0.8140 - val_loss: 0.5288 - val_acc: 0.7608\n",
      "Epoch 23/30\n",
      "2048/2048 [==============================] - 233s - loss: 0.3931 - acc: 0.8296 - val_loss: 0.5280 - val_acc: 0.7608\n",
      "Epoch 24/30\n",
      "2048/2048 [==============================] - 225s - loss: 0.4038 - acc: 0.8291 - val_loss: 0.6430 - val_acc: 0.7548\n",
      "Epoch 25/30\n",
      "2048/2048 [==============================] - 221s - loss: 0.4179 - acc: 0.8174 - val_loss: 0.5359 - val_acc: 0.7825\n",
      "Epoch 26/30\n",
      "2048/2048 [==============================] - 223s - loss: 0.4011 - acc: 0.8169 - val_loss: 0.5619 - val_acc: 0.7704\n",
      "Epoch 27/30\n",
      "2048/2048 [==============================] - 229s - loss: 0.4082 - acc: 0.8237 - val_loss: 0.5258 - val_acc: 0.7572\n",
      "Epoch 28/30\n",
      "2048/2048 [==============================] - 233s - loss: 0.3913 - acc: 0.8228 - val_loss: 0.5271 - val_acc: 0.7776\n",
      "Epoch 29/30\n",
      "2048/2048 [==============================] - 223s - loss: 0.4068 - acc: 0.8262 - val_loss: 0.5768 - val_acc: 0.7921\n",
      "Epoch 30/30\n",
      "2048/2048 [==============================] - 220s - loss: 0.3950 - acc: 0.8242 - val_loss: 0.5273 - val_acc: 0.7945\n"
     ]
    },
    {
     "data": {
      "text/plain": [
       "<keras.callbacks.History at 0x7f4b156b8a10>"
      ]
     },
     "execution_count": 13,
     "metadata": {},
     "output_type": "execute_result"
    }
   ],
   "source": [
    "model.fit_generator(\n",
    "        train_generator_augmented,\n",
    "        samples_per_epoch=nb_train_samples,\n",
    "        nb_epoch=nb_epoch,\n",
    "        validation_data=validation_generator,\n",
    "        nb_val_samples=nb_validation_samples)"
   ]
  },
  {
   "cell_type": "code",
   "execution_count": 14,
   "metadata": {
    "collapsed": false
   },
   "outputs": [],
   "source": [
    "model.save_weights('models/augmented_30_epochs.h5')"
   ]
  },
  {
   "cell_type": "code",
   "execution_count": 15,
   "metadata": {
    "collapsed": false
   },
   "outputs": [],
   "source": [
    "#model.load_weights('models_trained/augmented_30_epochs_161128.h5')"
   ]
  },
  {
   "cell_type": "markdown",
   "metadata": {},
   "source": [
    "### Evaluating on validation set"
   ]
  },
  {
   "cell_type": "markdown",
   "metadata": {},
   "source": [
    "Computing loss and accuracy :"
   ]
  },
  {
   "cell_type": "code",
   "execution_count": 16,
   "metadata": {
    "collapsed": false
   },
   "outputs": [
    {
     "data": {
      "text/plain": [
       "[0.52734890350928676, 0.79447115384615385]"
      ]
     },
     "execution_count": 16,
     "metadata": {},
     "output_type": "execute_result"
    }
   ],
   "source": [
    "model.evaluate_generator(validation_generator, nb_validation_samples)"
   ]
  },
  {
   "cell_type": "markdown",
   "metadata": {},
   "source": [
    "Evolution of accuracy on training (blue) and validation (green) sets for 1 to 100 epochs :"
   ]
  },
  {
   "cell_type": "markdown",
   "metadata": {},
   "source": [
    "![Accuracy evolution](pictures/scores_with_dataaugmentation.png)"
   ]
  },
  {
   "cell_type": "markdown",
   "metadata": {},
   "source": [
    "**Thanks to data-augmentation, the accuracy on the validation set improved to ~80%**"
   ]
  },
  {
   "cell_type": "markdown",
   "metadata": {},
   "source": [
    "## Using a pre-trained model"
   ]
  },
  {
   "cell_type": "markdown",
   "metadata": {},
   "source": [
    "The process of training a convolutionnal neural network can be very time-consuming and require a lot of datas.  \n",
    "\n",
    "We can go beyond the previous models in terms of performance and efficiency by using a general-purpose, pre-trained image classifier.  This example uses VGG16, a model trained on the ImageNet dataset - which contains millions of images classified in 1000 categories. \n",
    "\n",
    "On top of it, we add a small multi-layer perceptron and we train it on our dataset."
   ]
  },
  {
   "cell_type": "markdown",
   "metadata": {},
   "source": [
    "### VGG16 + small MLP\n",
    "![VGG16 + Dense layers Schema](pictures/vgg16_original.png)"
   ]
  },
  {
   "cell_type": "markdown",
   "metadata": {},
   "source": [
    "#### VGG16 model architecture definition"
   ]
  },
  {
   "cell_type": "code",
   "execution_count": 17,
   "metadata": {
    "collapsed": false
   },
   "outputs": [],
   "source": [
    "model_vgg = Sequential()\n",
    "model_vgg.add(ZeroPadding2D((1, 1), input_shape=(img_width, img_height,3)))\n",
    "model_vgg.add(Convolution2D(64, 3, 3, activation='relu', name='conv1_1'))\n",
    "model_vgg.add(ZeroPadding2D((1, 1)))\n",
    "model_vgg.add(Convolution2D(64, 3, 3, activation='relu', name='conv1_2'))\n",
    "model_vgg.add(MaxPooling2D((2, 2), strides=(2, 2)))\n",
    "\n",
    "model_vgg.add(ZeroPadding2D((1, 1)))\n",
    "model_vgg.add(Convolution2D(128, 3, 3, activation='relu', name='conv2_1'))\n",
    "model_vgg.add(ZeroPadding2D((1, 1)))\n",
    "model_vgg.add(Convolution2D(128, 3, 3, activation='relu', name='conv2_2'))\n",
    "model_vgg.add(MaxPooling2D((2, 2), strides=(2, 2)))\n",
    "\n",
    "model_vgg.add(ZeroPadding2D((1, 1)))\n",
    "model_vgg.add(Convolution2D(256, 3, 3, activation='relu', name='conv3_1'))\n",
    "model_vgg.add(ZeroPadding2D((1, 1)))\n",
    "model_vgg.add(Convolution2D(256, 3, 3, activation='relu', name='conv3_2'))\n",
    "model_vgg.add(ZeroPadding2D((1, 1)))\n",
    "model_vgg.add(Convolution2D(256, 3, 3, activation='relu', name='conv3_3'))\n",
    "model_vgg.add(MaxPooling2D((2, 2), strides=(2, 2)))\n",
    "\n",
    "model_vgg.add(ZeroPadding2D((1, 1)))\n",
    "model_vgg.add(Convolution2D(512, 3, 3, activation='relu', name='conv4_1'))\n",
    "model_vgg.add(ZeroPadding2D((1, 1)))\n",
    "model_vgg.add(Convolution2D(512, 3, 3, activation='relu', name='conv4_2'))\n",
    "model_vgg.add(ZeroPadding2D((1, 1)))\n",
    "model_vgg.add(Convolution2D(512, 3, 3, activation='relu', name='conv4_3'))\n",
    "model_vgg.add(MaxPooling2D((2, 2), strides=(2, 2)))\n",
    "\n",
    "model_vgg.add(ZeroPadding2D((1, 1)))\n",
    "model_vgg.add(Convolution2D(512, 3, 3, activation='relu', name='conv5_1'))\n",
    "model_vgg.add(ZeroPadding2D((1, 1)))\n",
    "model_vgg.add(Convolution2D(512, 3, 3, activation='relu', name='conv5_2'))\n",
    "model_vgg.add(ZeroPadding2D((1, 1)))\n",
    "model_vgg.add(Convolution2D(512, 3, 3, activation='relu', name='conv5_3'))\n",
    "model_vgg.add(MaxPooling2D((2, 2), strides=(2, 2)))"
   ]
  },
  {
   "cell_type": "markdown",
   "metadata": {},
   "source": [
    "#### Loading VGG16 weights\n",
    "This part is a bit complicated because the structure of our model is not exactly the same as the one used when training weights.  \n",
    "Otherwise, we would use the `model.load_weights()` method."
   ]
  },
  {
   "cell_type": "markdown",
   "metadata": {},
   "source": [
    "*Note : the VGG16 weights file (~500MB) is not included in this repository. You can download from here :  \n",
    "https://gist.github.com/baraldilorenzo/07d7802847aaad0a35d3*"
   ]
  },
  {
   "cell_type": "code",
   "execution_count": 18,
   "metadata": {
    "collapsed": false
   },
   "outputs": [],
   "source": [
    "import h5py\n",
    "f = h5py.File('models/vgg/vgg16_weights.h5')\n",
    "for k in range(f.attrs['nb_layers']):\n",
    "    if k >= len(model_vgg.layers) - 1:\n",
    "        # we don't look at the last two layers in the savefile (fully-connected and activation)\n",
    "        break\n",
    "    g = f['layer_{}'.format(k)]\n",
    "    weights = [g['param_{}'.format(p)] for p in range(g.attrs['nb_params'])]\n",
    "    layer = model_vgg.layers[k]\n",
    "\n",
    "    if layer.__class__.__name__ in ['Convolution1D', 'Convolution2D', 'Convolution3D', 'AtrousConvolution2D']:\n",
    "        weights[0] = np.transpose(weights[0], (2, 3, 1, 0))\n",
    "\n",
    "    layer.set_weights(weights)\n",
    "\n",
    "f.close()"
   ]
  },
  {
   "cell_type": "markdown",
   "metadata": {},
   "source": [
    "### Using the VGG16 model to process samples"
   ]
  },
  {
   "cell_type": "code",
   "execution_count": 19,
   "metadata": {
    "collapsed": false
   },
   "outputs": [
    {
     "name": "stdout",
     "output_type": "stream",
     "text": [
      "Found 2048 images belonging to 2 classes.\n",
      "Found 832 images belonging to 2 classes.\n"
     ]
    }
   ],
   "source": [
    "train_generator_bottleneck = datagen.flow_from_directory(\n",
    "        train_data_dir,\n",
    "        target_size=(img_width, img_height),\n",
    "        batch_size=32,\n",
    "        class_mode=None,\n",
    "        shuffle=False)\n",
    "\n",
    "validation_generator_bottleneck = datagen.flow_from_directory(\n",
    "        validation_data_dir,\n",
    "        target_size=(img_width, img_height),\n",
    "        batch_size=32,\n",
    "        class_mode=None,\n",
    "        shuffle=False)"
   ]
  },
  {
   "cell_type": "markdown",
   "metadata": {},
   "source": [
    "This is a long process, so we save the output of the VGG16 once and for all.  "
   ]
  },
  {
   "cell_type": "code",
   "execution_count": 20,
   "metadata": {
    "collapsed": false
   },
   "outputs": [],
   "source": [
    "bottleneck_features_train = model_vgg.predict_generator(train_generator_bottleneck, nb_train_samples)\n",
    "np.save(open('models/bottleneck_features_train.npy', 'wb'), bottleneck_features_train)"
   ]
  },
  {
   "cell_type": "code",
   "execution_count": 21,
   "metadata": {
    "collapsed": false
   },
   "outputs": [],
   "source": [
    "bottleneck_features_validation = model_vgg.predict_generator(validation_generator_bottleneck, nb_validation_samples)\n",
    "np.save(open('models/bottleneck_features_validation.npy', 'wb'), bottleneck_features_validation)"
   ]
  },
  {
   "cell_type": "markdown",
   "metadata": {},
   "source": [
    "Now we can load it..."
   ]
  },
  {
   "cell_type": "code",
   "execution_count": 22,
   "metadata": {
    "collapsed": false
   },
   "outputs": [],
   "source": [
    "train_data = np.load(open('models/bottleneck_features_train.npy', 'rb'))\n",
    "train_labels = np.array([0] * (nb_train_samples // 2) + [1] * (nb_train_samples // 2))\n",
    "\n",
    "validation_data = np.load(open('models/bottleneck_features_validation.npy', 'rb'))\n",
    "validation_labels = np.array([0] * (nb_validation_samples // 2) + [1] * (nb_validation_samples // 2))"
   ]
  },
  {
   "cell_type": "markdown",
   "metadata": {},
   "source": [
    "And define and train the custom fully connected neural network :"
   ]
  },
  {
   "cell_type": "code",
   "execution_count": 23,
   "metadata": {
    "collapsed": false
   },
   "outputs": [],
   "source": [
    "model_top = Sequential()\n",
    "model_top.add(Flatten(input_shape=train_data.shape[1:]))\n",
    "model_top.add(Dense(256, activation='relu'))\n",
    "model_top.add(Dropout(0.5))\n",
    "model_top.add(Dense(1, activation='sigmoid'))\n",
    "\n",
    "model_top.compile(optimizer='rmsprop', loss='binary_crossentropy', metrics=['accuracy'])"
   ]
  },
  {
   "cell_type": "code",
   "execution_count": 24,
   "metadata": {
    "collapsed": false
   },
   "outputs": [
    {
     "name": "stdout",
     "output_type": "stream",
     "text": [
      "Train on 2048 samples, validate on 832 samples\n",
      "Epoch 1/40\n",
      "2048/2048 [==============================] - 6s - loss: 0.9597 - acc: 0.6699 - val_loss: 0.6000 - val_acc: 0.7031\n",
      "Epoch 2/40\n",
      "2048/2048 [==============================] - 5s - loss: 0.4736 - acc: 0.7817 - val_loss: 0.3279 - val_acc: 0.8606\n",
      "Epoch 3/40\n",
      "2048/2048 [==============================] - 5s - loss: 0.4070 - acc: 0.8286 - val_loss: 0.3418 - val_acc: 0.8438\n",
      "Epoch 4/40\n",
      "2048/2048 [==============================] - 5s - loss: 0.3272 - acc: 0.8516 - val_loss: 0.3510 - val_acc: 0.8486\n",
      "Epoch 5/40\n",
      "2048/2048 [==============================] - 5s - loss: 0.3339 - acc: 0.8452 - val_loss: 0.2988 - val_acc: 0.8774\n",
      "Epoch 6/40\n",
      "2048/2048 [==============================] - 5s - loss: 0.2855 - acc: 0.8809 - val_loss: 0.5218 - val_acc: 0.8029\n",
      "Epoch 7/40\n",
      "2048/2048 [==============================] - 5s - loss: 0.2529 - acc: 0.8892 - val_loss: 0.3000 - val_acc: 0.8714\n",
      "Epoch 8/40\n",
      "2048/2048 [==============================] - 5s - loss: 0.2138 - acc: 0.9092 - val_loss: 0.3212 - val_acc: 0.8714\n",
      "Epoch 9/40\n",
      "2048/2048 [==============================] - 5s - loss: 0.1959 - acc: 0.9209 - val_loss: 0.3192 - val_acc: 0.8774\n",
      "Epoch 10/40\n",
      "2048/2048 [==============================] - 6s - loss: 0.1727 - acc: 0.9287 - val_loss: 0.3390 - val_acc: 0.8762\n",
      "Epoch 11/40\n",
      "2048/2048 [==============================] - 8s - loss: 0.1602 - acc: 0.9307 - val_loss: 0.3597 - val_acc: 0.8726\n",
      "Epoch 12/40\n",
      "2048/2048 [==============================] - 10s - loss: 0.1233 - acc: 0.9512 - val_loss: 0.3563 - val_acc: 0.8786\n",
      "Epoch 13/40\n",
      "2048/2048 [==============================] - 10s - loss: 0.1350 - acc: 0.9482 - val_loss: 0.4916 - val_acc: 0.8377\n",
      "Epoch 14/40\n",
      "2048/2048 [==============================] - 10s - loss: 0.1183 - acc: 0.9478 - val_loss: 0.3988 - val_acc: 0.8750\n",
      "Epoch 15/40\n",
      "2048/2048 [==============================] - 10s - loss: 0.0922 - acc: 0.9604 - val_loss: 0.4603 - val_acc: 0.8798\n",
      "Epoch 16/40\n",
      "2048/2048 [==============================] - 10s - loss: 0.1053 - acc: 0.9536 - val_loss: 0.4368 - val_acc: 0.8642\n",
      "Epoch 17/40\n",
      "2048/2048 [==============================] - 11s - loss: 0.0850 - acc: 0.9678 - val_loss: 0.6954 - val_acc: 0.8233\n",
      "Epoch 18/40\n",
      "2048/2048 [==============================] - 10s - loss: 0.0795 - acc: 0.9736 - val_loss: 0.4371 - val_acc: 0.8738\n",
      "Epoch 19/40\n",
      "2048/2048 [==============================] - 10s - loss: 0.0620 - acc: 0.9741 - val_loss: 0.6101 - val_acc: 0.8498\n",
      "Epoch 20/40\n",
      "2048/2048 [==============================] - 10s - loss: 0.0616 - acc: 0.9746 - val_loss: 1.1607 - val_acc: 0.7680\n",
      "Epoch 21/40\n",
      "2048/2048 [==============================] - 10s - loss: 0.0729 - acc: 0.9717 - val_loss: 0.7982 - val_acc: 0.8353\n",
      "Epoch 22/40\n",
      "2048/2048 [==============================] - 10s - loss: 0.0587 - acc: 0.9805 - val_loss: 0.5465 - val_acc: 0.8822\n",
      "Epoch 23/40\n",
      "2048/2048 [==============================] - 10s - loss: 0.0480 - acc: 0.9829 - val_loss: 0.6029 - val_acc: 0.8522\n",
      "Epoch 24/40\n",
      "2048/2048 [==============================] - 10s - loss: 0.0429 - acc: 0.9834 - val_loss: 0.5999 - val_acc: 0.8750\n",
      "Epoch 25/40\n",
      "2048/2048 [==============================] - 10s - loss: 0.0343 - acc: 0.9863 - val_loss: 0.6143 - val_acc: 0.8726\n",
      "Epoch 26/40\n",
      "2048/2048 [==============================] - 10s - loss: 0.0328 - acc: 0.9888 - val_loss: 0.6451 - val_acc: 0.8714\n",
      "Epoch 27/40\n",
      "2048/2048 [==============================] - 10s - loss: 0.0282 - acc: 0.9878 - val_loss: 0.7578 - val_acc: 0.8558\n",
      "Epoch 28/40\n",
      "2048/2048 [==============================] - 10s - loss: 0.0376 - acc: 0.9863 - val_loss: 0.9969 - val_acc: 0.8293\n",
      "Epoch 29/40\n",
      "2048/2048 [==============================] - 10s - loss: 0.0293 - acc: 0.9873 - val_loss: 0.6460 - val_acc: 0.8714\n",
      "Epoch 30/40\n",
      "2048/2048 [==============================] - 10s - loss: 0.0445 - acc: 0.9849 - val_loss: 0.6262 - val_acc: 0.8822\n",
      "Epoch 31/40\n",
      "2048/2048 [==============================] - 10s - loss: 0.0202 - acc: 0.9922 - val_loss: 0.6633 - val_acc: 0.8786\n",
      "Epoch 32/40\n",
      "2048/2048 [==============================] - 10s - loss: 0.0550 - acc: 0.9888 - val_loss: 0.8374 - val_acc: 0.8714\n",
      "Epoch 33/40\n",
      "2048/2048 [==============================] - 10s - loss: 0.0289 - acc: 0.9893 - val_loss: 0.7651 - val_acc: 0.8798\n",
      "Epoch 34/40\n",
      "2048/2048 [==============================] - 10s - loss: 0.0238 - acc: 0.9922 - val_loss: 0.7346 - val_acc: 0.8762\n",
      "Epoch 35/40\n",
      "2048/2048 [==============================] - 10s - loss: 0.0307 - acc: 0.9902 - val_loss: 0.7280 - val_acc: 0.8810\n",
      "Epoch 36/40\n",
      "2048/2048 [==============================] - 10s - loss: 0.0256 - acc: 0.9912 - val_loss: 0.8269 - val_acc: 0.8726\n",
      "Epoch 37/40\n",
      "2048/2048 [==============================] - 10s - loss: 0.0285 - acc: 0.9893 - val_loss: 0.8115 - val_acc: 0.8738\n",
      "Epoch 38/40\n",
      "2048/2048 [==============================] - 10s - loss: 0.0274 - acc: 0.9917 - val_loss: 0.7482 - val_acc: 0.8786\n",
      "Epoch 39/40\n",
      "2048/2048 [==============================] - 10s - loss: 0.0254 - acc: 0.9897 - val_loss: 0.7448 - val_acc: 0.8714\n",
      "Epoch 40/40\n",
      "2048/2048 [==============================] - 11s - loss: 0.0273 - acc: 0.9927 - val_loss: 0.7622 - val_acc: 0.8726\n"
     ]
    },
    {
     "data": {
      "text/plain": [
       "<keras.callbacks.History at 0x7f4b16f6cf90>"
      ]
     },
     "execution_count": 24,
     "metadata": {},
     "output_type": "execute_result"
    }
   ],
   "source": [
    "nb_epoch=40\n",
    "model_top.fit(train_data, train_labels,\n",
    "          nb_epoch=nb_epoch, batch_size=32,\n",
    "          validation_data=(validation_data, validation_labels))"
   ]
  },
  {
   "cell_type": "markdown",
   "metadata": {},
   "source": [
    "The training process of this small neural network is very fast : ~2s per epoch"
   ]
  },
  {
   "cell_type": "code",
   "execution_count": 25,
   "metadata": {
    "collapsed": false
   },
   "outputs": [],
   "source": [
    "model_top.save_weights('models/bottleneck_40_epochs_161128.h5')"
   ]
  },
  {
   "cell_type": "markdown",
   "metadata": {},
   "source": [
    "### Bottleneck model evaluation"
   ]
  },
  {
   "cell_type": "code",
   "execution_count": 26,
   "metadata": {
    "collapsed": false
   },
   "outputs": [],
   "source": [
    "#model_top.load_weights('models/with-bottleneck/1000-samples--100-epochs.h5')\n",
    "#model_top.load_weights('/notebook/Data1/Code/keras-workshop/models/with-bottleneck/1000-samples--100-epochs.h5')"
   ]
  },
  {
   "cell_type": "markdown",
   "metadata": {},
   "source": [
    "Loss and accuracy :"
   ]
  },
  {
   "cell_type": "code",
   "execution_count": 27,
   "metadata": {
    "collapsed": false
   },
   "outputs": [
    {
     "name": "stdout",
     "output_type": "stream",
     "text": [
      "832/832 [==============================] - 0s     \n"
     ]
    },
    {
     "data": {
      "text/plain": [
       "[0.76223257556557655, 0.87259615384615385]"
      ]
     },
     "execution_count": 27,
     "metadata": {},
     "output_type": "execute_result"
    }
   ],
   "source": [
    "model_top.evaluate(validation_data, validation_labels)"
   ]
  },
  {
   "cell_type": "markdown",
   "metadata": {},
   "source": [
    "Evolution of accuracy on training (blue) and validation (green) sets for 1 to 32 epochs :"
   ]
  },
  {
   "cell_type": "markdown",
   "metadata": {},
   "source": [
    "![Accuracy evolution](pictures/scores_with_bottleneck.png)"
   ]
  },
  {
   "cell_type": "markdown",
   "metadata": {},
   "source": [
    "**We reached a 90% accuracy on the validation after ~1m of training (~20 epochs) and 8% of the samples originally available on the Kaggle competition !**"
   ]
  },
  {
   "cell_type": "code",
   "execution_count": 28,
   "metadata": {
    "collapsed": true
   },
   "outputs": [],
   "source": [
    "##Fine-tuning the top layers of a a pre-trained network"
   ]
  },
  {
   "cell_type": "markdown",
   "metadata": {
    "collapsed": true
   },
   "source": [
    "Start by instantiating the VGG base and loading its weights."
   ]
  },
  {
   "cell_type": "code",
   "execution_count": 29,
   "metadata": {
    "collapsed": true
   },
   "outputs": [],
   "source": [
    "model_vgg = Sequential()\n",
    "model_vgg.add(ZeroPadding2D((1, 1), input_shape=(img_width, img_height,3)))\n",
    "model_vgg.add(Convolution2D(64, 3, 3, activation='relu', name='conv1_1'))\n",
    "model_vgg.add(ZeroPadding2D((1, 1)))\n",
    "model_vgg.add(Convolution2D(64, 3, 3, activation='relu', name='conv1_2'))\n",
    "model_vgg.add(MaxPooling2D((2, 2), strides=(2, 2)))\n",
    "\n",
    "model_vgg.add(ZeroPadding2D((1, 1)))\n",
    "model_vgg.add(Convolution2D(128, 3, 3, activation='relu', name='conv2_1'))\n",
    "model_vgg.add(ZeroPadding2D((1, 1)))\n",
    "model_vgg.add(Convolution2D(128, 3, 3, activation='relu', name='conv2_2'))\n",
    "model_vgg.add(MaxPooling2D((2, 2), strides=(2, 2)))\n",
    "\n",
    "model_vgg.add(ZeroPadding2D((1, 1)))\n",
    "model_vgg.add(Convolution2D(256, 3, 3, activation='relu', name='conv3_1'))\n",
    "model_vgg.add(ZeroPadding2D((1, 1)))\n",
    "model_vgg.add(Convolution2D(256, 3, 3, activation='relu', name='conv3_2'))\n",
    "model_vgg.add(ZeroPadding2D((1, 1)))\n",
    "model_vgg.add(Convolution2D(256, 3, 3, activation='relu', name='conv3_3'))\n",
    "model_vgg.add(MaxPooling2D((2, 2), strides=(2, 2)))\n",
    "\n",
    "model_vgg.add(ZeroPadding2D((1, 1)))\n",
    "model_vgg.add(Convolution2D(512, 3, 3, activation='relu', name='conv4_1'))\n",
    "model_vgg.add(ZeroPadding2D((1, 1)))\n",
    "model_vgg.add(Convolution2D(512, 3, 3, activation='relu', name='conv4_2'))\n",
    "model_vgg.add(ZeroPadding2D((1, 1)))\n",
    "model_vgg.add(Convolution2D(512, 3, 3, activation='relu', name='conv4_3'))\n",
    "model_vgg.add(MaxPooling2D((2, 2), strides=(2, 2)))\n",
    "\n",
    "model_vgg.add(ZeroPadding2D((1, 1)))\n",
    "model_vgg.add(Convolution2D(512, 3, 3, activation='relu', name='conv5_1'))\n",
    "model_vgg.add(ZeroPadding2D((1, 1)))\n",
    "model_vgg.add(Convolution2D(512, 3, 3, activation='relu', name='conv5_2'))\n",
    "model_vgg.add(ZeroPadding2D((1, 1)))\n",
    "model_vgg.add(Convolution2D(512, 3, 3, activation='relu', name='conv5_3'))\n",
    "model_vgg.add(MaxPooling2D((2, 2), strides=(2, 2)))"
   ]
  },
  {
   "cell_type": "code",
   "execution_count": 30,
   "metadata": {
    "collapsed": false
   },
   "outputs": [],
   "source": [
    "import h5py\n",
    "f = h5py.File('models/vgg/vgg16_weights.h5')\n",
    "for k in range(f.attrs['nb_layers']):\n",
    "    if k >= len(model_vgg.layers) - 1:\n",
    "        # we don't look at the last two layers in the savefile (fully-connected and activation)\n",
    "        break\n",
    "    g = f['layer_{}'.format(k)]\n",
    "    weights = [g['param_{}'.format(p)] for p in range(g.attrs['nb_params'])]\n",
    "    layer = model_vgg.layers[k]\n",
    "\n",
    "    if layer.__class__.__name__ in ['Convolution1D', 'Convolution2D', 'Convolution3D', 'AtrousConvolution2D']:\n",
    "        weights[0] = np.transpose(weights[0], (2, 3, 1, 0))\n",
    "\n",
    "    layer.set_weights(weights)\n",
    "\n",
    "f.close()"
   ]
  },
  {
   "cell_type": "markdown",
   "metadata": {},
   "source": [
    "Build a classifier model to put on top of the convolutional model. For the fine tuning, we start with a fully trained-classifer. We will use the weights from the earlier model. And then we will add this model on top of the convolutional base."
   ]
  },
  {
   "cell_type": "code",
   "execution_count": 31,
   "metadata": {
    "collapsed": false
   },
   "outputs": [],
   "source": [
    "top_model = Sequential()\n",
    "top_model.add(Flatten(input_shape=model_vgg.output_shape[1:]))\n",
    "top_model.add(Dense(256, activation='relu'))\n",
    "top_model.add(Dropout(0.5))\n",
    "top_model.add(Dense(1, activation='sigmoid'))\n",
    "\n",
    "top_model.load_weights('models/bottleneck_40_epochs.h5')\n",
    "\n",
    "model_vgg.add(top_model)"
   ]
  },
  {
   "cell_type": "markdown",
   "metadata": {},
   "source": [
    "For fine turning, we only want to train a few layers.  This line will set the first 25 layers (up to the conv block) to non-trainable."
   ]
  },
  {
   "cell_type": "code",
   "execution_count": 32,
   "metadata": {
    "collapsed": false
   },
   "outputs": [],
   "source": [
    "for layer in model_vgg.layers[:25]:\n",
    "    layer.trainable = False"
   ]
  },
  {
   "cell_type": "code",
   "execution_count": 33,
   "metadata": {
    "collapsed": true
   },
   "outputs": [],
   "source": [
    "# compile the model with a SGD/momentum optimizer\n",
    "# and a very slow learning rate.\n",
    "model_vgg.compile(loss='binary_crossentropy',\n",
    "              optimizer=optimizers.SGD(lr=1e-4, momentum=0.9),\n",
    "              metrics=['accuracy'])"
   ]
  },
  {
   "cell_type": "code",
   "execution_count": null,
   "metadata": {
    "collapsed": false
   },
   "outputs": [
    {
     "name": "stdout",
     "output_type": "stream",
     "text": [
      "Found 2048 images belonging to 2 classes.\n",
      "Found 832 images belonging to 2 classes.\n"
     ]
    }
   ],
   "source": [
    "# prepare data augmentation configuration  . . . do we need this?\n",
    "train_datagen = ImageDataGenerator(\n",
    "        rescale=1./255,\n",
    "        shear_range=0.2,\n",
    "        zoom_range=0.2,\n",
    "        horizontal_flip=True)\n",
    "\n",
    "test_datagen = ImageDataGenerator(rescale=1./255)\n",
    "\n",
    "train_generator = train_datagen.flow_from_directory(\n",
    "        train_data_dir,\n",
    "        target_size=(img_height, img_width),\n",
    "        batch_size=32,\n",
    "        class_mode='binary')\n",
    "\n",
    "validation_generator = test_datagen.flow_from_directory(\n",
    "        validation_data_dir,\n",
    "        target_size=(img_height, img_width),\n",
    "        batch_size=32,\n",
    "        class_mode='binary')"
   ]
  },
  {
   "cell_type": "code",
   "execution_count": null,
   "metadata": {
    "collapsed": false
   },
   "outputs": [
    {
     "name": "stdout",
     "output_type": "stream",
     "text": [
      "Epoch 1/40\n"
     ]
    }
   ],
   "source": [
    "# fine-tune the model\n",
    "model_vgg.fit_generator(\n",
    "        train_generator,\n",
    "        samples_per_epoch=nb_train_samples,\n",
    "        nb_epoch=nb_epoch,\n",
    "        validation_data=validation_generator,\n",
    "        nb_val_samples=nb_validation_samples)"
   ]
  },
  {
   "cell_type": "code",
   "execution_count": null,
   "metadata": {
    "collapsed": true
   },
   "outputs": [],
   "source": [
    "model_vgg.save_weights('models/finetuning_40_epochs_vgg_161128.h5')"
   ]
  },
  {
   "cell_type": "code",
   "execution_count": null,
   "metadata": {
    "collapsed": true
   },
   "outputs": [],
   "source": [
    "model_vgg.load_weights('models/finetuning_40_epochs_vgg_161128.h5')"
   ]
  },
  {
   "cell_type": "markdown",
   "metadata": {},
   "source": [
    "### Evaluating on validation set"
   ]
  },
  {
   "cell_type": "markdown",
   "metadata": {},
   "source": [
    "Computing loss and accuracy :"
   ]
  },
  {
   "cell_type": "code",
   "execution_count": null,
   "metadata": {
    "collapsed": false
   },
   "outputs": [],
   "source": [
    "model_vgg.evaluate_generator(validation_generator, nb_validation_samples)"
   ]
  },
  {
   "cell_type": "code",
   "execution_count": null,
   "metadata": {
    "collapsed": false
   },
   "outputs": [],
   "source": [
    "model.evaluate_generator(validation_generator, nb_validation_samples)"
   ]
  },
  {
   "cell_type": "code",
   "execution_count": null,
   "metadata": {
    "collapsed": false
   },
   "outputs": [],
   "source": [
    "model_top.evaluate(validation_data, validation_labels)"
   ]
  }
 ],
 "metadata": {
  "anaconda-cloud": {},
  "kernelspec": {
   "display_name": "Python [default]",
   "language": "python",
   "name": "python2"
  },
  "language_info": {
   "codemirror_mode": {
    "name": "ipython",
    "version": 2
   },
   "file_extension": ".py",
   "mimetype": "text/x-python",
   "name": "python",
   "nbconvert_exporter": "python",
   "pygments_lexer": "ipython2",
   "version": "2.7.12"
  }
 },
 "nbformat": 4,
 "nbformat_minor": 1
}
