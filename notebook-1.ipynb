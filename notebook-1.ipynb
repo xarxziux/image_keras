{
 "cells": [
  {
   "cell_type": "markdown",
   "metadata": {},
   "source": [
    "### Building an image classification model using very little data  \n",
    "\n",
    "Based on the tutorial by Francois Chollet @fchollet https://blog.keras.io/building-powerful-image-classification-models-using-very-little-data.html and the workbook by Guillaume Dominici https://github.com/gggdominici/keras-workshop\n",
    "\n",
    "This tutorial presents several ways to build an image classifier using keras from just a few hundred or thousand pictures from each class you want to be able to recognize.\n",
    "\n",
    "We will go over the following options:  \n",
    "\n",
    "- training a small network from scratch (as a baseline)  \n",
    "- using the bottleneck features of a pre-trained network  \n",
    "- fine-tuning the top layers of a pre-trained network  \n",
    "  \n",
    "This will lead us to cover the following Keras features:   \n",
    "  \n",
    "- fit_generator for training Keras a model using Python data generators  \n",
    "- ImageDataGenerator for real-time data augmentation  \n",
    "- layer freezing and model fine-tuning  \n",
    "- ...and more.  \n"
   ]
  },
  {
   "cell_type": "markdown",
   "metadata": {},
   "source": [
    "## Data"
   ]
  },
  {
   "cell_type": "markdown",
   "metadata": {},
   "source": [
    "Data can be downloaded at:\n",
    "https://www.kaggle.com/c/dogs-vs-cats/data  \n",
    "All you need is the train set  \n",
    "The recommended folder structure is:  "
   ]
  },
  {
   "cell_type": "markdown",
   "metadata": {},
   "source": [
    "### Folder structure"
   ]
  },
  {
   "cell_type": "markdown",
   "metadata": {},
   "source": [
    "```python\n",
    "data/\n",
    "    train/\n",
    "        dogs/ ### 1024 pictures\n",
    "            dog001.jpg\n",
    "            dog002.jpg\n",
    "            ...\n",
    "        cats/ ### 1024 pictures\n",
    "            cat001.jpg\n",
    "            cat002.jpg\n",
    "            ...\n",
    "    validation/\n",
    "        dogs/ ### 416 pictures\n",
    "            dog001.jpg\n",
    "            dog002.jpg\n",
    "            ...\n",
    "        cats/ ### 416 pictures\n",
    "            cat001.jpg\n",
    "            cat002.jpg\n",
    "            ...\n",
    "```\n",
    "Note : for this example we only consider 2x1000 training images and 2x400 testing images among the 2x12500 available."
   ]
  },
  {
   "cell_type": "markdown",
   "metadata": {},
   "source": [
    "The github repo includes about 1500 images for this model. The original Kaggle dataset is much larger. The purpose of this demo is to show how you can build models with smaller size datasets. You should be able to improve this model by using more data."
   ]
  },
  {
   "cell_type": "markdown",
   "metadata": {},
   "source": [
    "### Data loading"
   ]
  },
  {
   "cell_type": "code",
   "execution_count": 2,
   "metadata": {
    "collapsed": false
   },
   "outputs": [
    {
     "name": "stdout",
     "output_type": "stream",
     "text": [
      "Requirement already satisfied: pillow in /home/blackrebel/anaconda2/lib/python2.7/site-packages\n",
      "Using TensorFlow backend.\n"
     ]
    }
   ],
   "source": [
    "##This notebook is built around using tensorflow as the backend for keras\n",
    "!pip install pillow\n",
    "!KERAS_BACKEND=tensorflow python -c \"from keras import backend\""
   ]
  },
  {
   "cell_type": "code",
   "execution_count": 1,
   "metadata": {
    "collapsed": false
   },
   "outputs": [
    {
     "name": "stderr",
     "output_type": "stream",
     "text": [
      "Using TensorFlow backend.\n"
     ]
    }
   ],
   "source": [
    "import os\n",
    "import numpy as np\n",
    "from keras.models import Sequential\n",
    "from keras.layers import Activation, Dropout, Flatten, Dense\n",
    "from keras.preprocessing.image import ImageDataGenerator\n",
    "from keras.layers import Convolution2D, MaxPooling2D, ZeroPadding2D\n",
    "from keras import optimizers"
   ]
  },
  {
   "cell_type": "code",
   "execution_count": 4,
   "metadata": {
    "collapsed": true
   },
   "outputs": [],
   "source": [
    "# dimensions of our images.\n",
    "img_width, img_height = 150, 150\n",
    "\n",
    "train_data_dir = 'data/train'\n",
    "validation_data_dir = 'data/validation'"
   ]
  },
  {
   "cell_type": "markdown",
   "metadata": {},
   "source": [
    "### Imports"
   ]
  },
  {
   "cell_type": "code",
   "execution_count": 5,
   "metadata": {
    "collapsed": false
   },
   "outputs": [
    {
     "name": "stdout",
     "output_type": "stream",
     "text": [
      "Found 2048 images belonging to 2 classes.\n",
      "Found 832 images belonging to 2 classes.\n"
     ]
    }
   ],
   "source": [
    "# used to rescale the pixel values from [0, 255] to [0, 1] interval\n",
    "datagen = ImageDataGenerator(rescale=1./255)\n",
    "\n",
    "# automagically retrieve images and their classes for train and validation sets\n",
    "train_generator = datagen.flow_from_directory(\n",
    "        train_data_dir,\n",
    "        target_size=(img_width, img_height),\n",
    "        batch_size=16,\n",
    "        class_mode='binary')\n",
    "\n",
    "validation_generator = datagen.flow_from_directory(\n",
    "        validation_data_dir,\n",
    "        target_size=(img_width, img_height),\n",
    "        batch_size=32,\n",
    "        class_mode='binary')"
   ]
  },
  {
   "cell_type": "markdown",
   "metadata": {},
   "source": [
    "## Small Conv Net"
   ]
  },
  {
   "cell_type": "markdown",
   "metadata": {},
   "source": [
    "### Model architecture definition"
   ]
  },
  {
   "cell_type": "code",
   "execution_count": 6,
   "metadata": {
    "collapsed": false
   },
   "outputs": [],
   "source": [
    "model = Sequential()\n",
    "model.add(Convolution2D(32, 3, 3, input_shape=(img_width, img_height,3)))\n",
    "model.add(Activation('relu'))\n",
    "model.add(MaxPooling2D(pool_size=(2, 2)))\n",
    "\n",
    "model.add(Convolution2D(32, 3, 3))\n",
    "model.add(Activation('relu'))\n",
    "model.add(MaxPooling2D(pool_size=(2, 2)))\n",
    "\n",
    "model.add(Convolution2D(64, 3, 3))\n",
    "model.add(Activation('relu'))\n",
    "model.add(MaxPooling2D(pool_size=(2, 2)))\n",
    "\n",
    "model.add(Flatten())\n",
    "model.add(Dense(64))\n",
    "model.add(Activation('relu'))\n",
    "model.add(Dropout(0.5))\n",
    "model.add(Dense(1))\n",
    "model.add(Activation('sigmoid'))"
   ]
  },
  {
   "cell_type": "code",
   "execution_count": 7,
   "metadata": {
    "collapsed": true
   },
   "outputs": [],
   "source": [
    "model.compile(loss='binary_crossentropy',\n",
    "              optimizer='rmsprop',\n",
    "              metrics=['accuracy'])"
   ]
  },
  {
   "cell_type": "markdown",
   "metadata": {},
   "source": [
    "### Training"
   ]
  },
  {
   "cell_type": "code",
   "execution_count": 9,
   "metadata": {
    "collapsed": true
   },
   "outputs": [],
   "source": [
    "nb_epoch = 30\n",
    "nb_train_samples = 2048\n",
    "nb_validation_samples = 832"
   ]
  },
  {
   "cell_type": "code",
   "execution_count": 10,
   "metadata": {
    "collapsed": false
   },
   "outputs": [
    {
     "name": "stdout",
     "output_type": "stream",
     "text": [
      "Epoch 1/30\n",
      "2048/2048 [==============================] - 300s - loss: 0.7060 - acc: 0.4937 - val_loss: 0.6931 - val_acc: 0.5144\n",
      "Epoch 2/30\n",
      "2048/2048 [==============================] - 247s - loss: 0.6962 - acc: 0.5171 - val_loss: 0.6874 - val_acc: 0.5048\n",
      "Epoch 3/30\n",
      "2048/2048 [==============================] - 201s - loss: 0.6826 - acc: 0.5635 - val_loss: 0.6559 - val_acc: 0.5938\n",
      "Epoch 4/30\n",
      "2048/2048 [==============================] - 188s - loss: 0.6522 - acc: 0.6060 - val_loss: 0.6424 - val_acc: 0.6250\n",
      "Epoch 5/30\n",
      "2048/2048 [==============================] - 190s - loss: 0.6113 - acc: 0.6636 - val_loss: 0.6498 - val_acc: 0.6466\n",
      "Epoch 6/30\n",
      "2048/2048 [==============================] - 192s - loss: 0.5879 - acc: 0.6880 - val_loss: 0.7098 - val_acc: 0.6466\n",
      "Epoch 7/30\n",
      "2048/2048 [==============================] - 192s - loss: 0.5735 - acc: 0.7026 - val_loss: 0.5856 - val_acc: 0.6815\n",
      "Epoch 8/30\n",
      "2048/2048 [==============================] - 196s - loss: 0.5495 - acc: 0.7227 - val_loss: 0.6774 - val_acc: 0.6623\n",
      "Epoch 9/30\n",
      "2048/2048 [==============================] - 199s - loss: 0.5335 - acc: 0.7261 - val_loss: 0.7274 - val_acc: 0.6743\n",
      "Epoch 10/30\n",
      "2048/2048 [==============================] - 199s - loss: 0.5171 - acc: 0.7329 - val_loss: 0.6352 - val_acc: 0.6875\n",
      "Epoch 11/30\n",
      "2048/2048 [==============================] - 200s - loss: 0.4889 - acc: 0.7622 - val_loss: 0.6487 - val_acc: 0.6695\n",
      "Epoch 12/30\n",
      "2048/2048 [==============================] - 199s - loss: 0.4857 - acc: 0.7715 - val_loss: 0.6515 - val_acc: 0.6863\n",
      "Epoch 13/30\n",
      "2048/2048 [==============================] - 197s - loss: 0.4642 - acc: 0.7783 - val_loss: 0.6298 - val_acc: 0.6911\n",
      "Epoch 14/30\n",
      "2048/2048 [==============================] - 198s - loss: 0.4457 - acc: 0.7876 - val_loss: 0.7232 - val_acc: 0.6899\n",
      "Epoch 15/30\n",
      "2048/2048 [==============================] - 198s - loss: 0.4220 - acc: 0.7935 - val_loss: 0.6727 - val_acc: 0.7019\n",
      "Epoch 16/30\n",
      "2048/2048 [==============================] - 198s - loss: 0.3980 - acc: 0.8179 - val_loss: 0.6890 - val_acc: 0.7175\n",
      "Epoch 17/30\n",
      "2048/2048 [==============================] - 196s - loss: 0.3811 - acc: 0.8354 - val_loss: 0.7701 - val_acc: 0.7188\n",
      "Epoch 18/30\n",
      "2048/2048 [==============================] - 197s - loss: 0.3453 - acc: 0.8530 - val_loss: 0.7004 - val_acc: 0.7236\n",
      "Epoch 19/30\n",
      "2048/2048 [==============================] - 198s - loss: 0.3310 - acc: 0.8530 - val_loss: 0.7323 - val_acc: 0.7260\n",
      "Epoch 20/30\n",
      "2048/2048 [==============================] - 202s - loss: 0.2980 - acc: 0.8672 - val_loss: 0.8517 - val_acc: 0.7019\n",
      "Epoch 21/30\n",
      "2048/2048 [==============================] - 202s - loss: 0.3054 - acc: 0.8662 - val_loss: 0.7351 - val_acc: 0.7115\n",
      "Epoch 22/30\n",
      "2048/2048 [==============================] - 202s - loss: 0.3035 - acc: 0.8784 - val_loss: 0.9461 - val_acc: 0.7007\n",
      "Epoch 23/30\n",
      "2048/2048 [==============================] - 202s - loss: 0.2713 - acc: 0.8901 - val_loss: 1.0294 - val_acc: 0.7127\n",
      "Epoch 24/30\n",
      "2048/2048 [==============================] - 188s - loss: 0.2693 - acc: 0.8926 - val_loss: 0.9975 - val_acc: 0.7139\n",
      "Epoch 25/30\n",
      "2048/2048 [==============================] - 189s - loss: 0.2789 - acc: 0.8896 - val_loss: 0.8874 - val_acc: 0.7248\n",
      "Epoch 26/30\n",
      "2048/2048 [==============================] - 189s - loss: 0.2330 - acc: 0.9043 - val_loss: 0.7805 - val_acc: 0.7055\n",
      "Epoch 27/30\n",
      "2048/2048 [==============================] - 191s - loss: 0.2410 - acc: 0.9131 - val_loss: 1.0109 - val_acc: 0.7007\n",
      "Epoch 28/30\n",
      "2048/2048 [==============================] - 188s - loss: 0.2645 - acc: 0.9014 - val_loss: 1.1513 - val_acc: 0.7079\n",
      "Epoch 29/30\n",
      "2048/2048 [==============================] - 187s - loss: 0.2414 - acc: 0.9087 - val_loss: 1.0419 - val_acc: 0.7163\n",
      "Epoch 30/30\n",
      "2048/2048 [==============================] - 188s - loss: 0.2208 - acc: 0.9170 - val_loss: 1.3896 - val_acc: 0.7031\n"
     ]
    },
    {
     "data": {
      "text/plain": [
       "<keras.callbacks.History at 0x7fa286076690>"
      ]
     },
     "execution_count": 10,
     "metadata": {},
     "output_type": "execute_result"
    }
   ],
   "source": [
    "model.fit_generator(\n",
    "        train_generator,\n",
    "        samples_per_epoch=nb_train_samples,\n",
    "        nb_epoch=nb_epoch,\n",
    "        validation_data=validation_generator,\n",
    "        nb_val_samples=nb_validation_samples)"
   ]
  },
  {
   "cell_type": "code",
   "execution_count": 11,
   "metadata": {
    "collapsed": false
   },
   "outputs": [],
   "source": [
    "model.save_weights('models/run_161121_1.h5')"
   ]
  },
  {
   "cell_type": "code",
   "execution_count": 10,
   "metadata": {
    "collapsed": true
   },
   "outputs": [],
   "source": [
    "#model.load_weights('models_trained/basic_cnn_20_epochs.h5')"
   ]
  },
  {
   "cell_type": "markdown",
   "metadata": {},
   "source": [
    "If your model successfully runs at one epoch, go back and it for 30 epochs by changing nb_epoch above.  I was able to get to an val_acc of 0.71 at 30 epochs.\n",
    "A copy of a pretrained network is available in the pretrained folder."
   ]
  },
  {
   "cell_type": "markdown",
   "metadata": {},
   "source": [
    "### Evaluating on validation set"
   ]
  },
  {
   "cell_type": "markdown",
   "metadata": {},
   "source": [
    "Computing loss and accuracy :"
   ]
  },
  {
   "cell_type": "code",
   "execution_count": 12,
   "metadata": {
    "collapsed": false
   },
   "outputs": [
    {
     "data": {
      "text/plain": [
       "[1.3895547286822245, 0.703125]"
      ]
     },
     "execution_count": 12,
     "metadata": {},
     "output_type": "execute_result"
    }
   ],
   "source": [
    "model.evaluate_generator(validation_generator, nb_validation_samples)"
   ]
  },
  {
   "cell_type": "markdown",
   "metadata": {},
   "source": [
    "Evolution of accuracy on training (blue) and validation (green) sets for 1 to 32 epochs :"
   ]
  },
  {
   "cell_type": "markdown",
   "metadata": {},
   "source": [
    "![Accuracy evolution](pictures/scores_no_dataaugmentation.png)"
   ]
  },
  {
   "cell_type": "markdown",
   "metadata": {},
   "source": [
    "**After ~10 epochs the neural network reach ~70% accuracy. We can witness overfitting, no progress is made over validation set in the next epochs**"
   ]
  },
  {
   "cell_type": "markdown",
   "metadata": {},
   "source": [
    "## Data augmentation for improving the model"
   ]
  },
  {
   "cell_type": "markdown",
   "metadata": {},
   "source": [
    "By applying random transformation to our train set, we artificially enhance our dataset with new unseen images.  \n",
    "This will hopefully reduce overfitting and allows better generalization capability for our network."
   ]
  },
  {
   "cell_type": "markdown",
   "metadata": {},
   "source": [
    "Example of data augmentation applied to a picture:\n",
    "![Example of data augmentation applied to a picture](pictures/cat_data_augmentation.png)"
   ]
  },
  {
   "cell_type": "code",
   "execution_count": 13,
   "metadata": {
    "collapsed": false
   },
   "outputs": [
    {
     "name": "stdout",
     "output_type": "stream",
     "text": [
      "Found 2048 images belonging to 2 classes.\n"
     ]
    }
   ],
   "source": [
    "train_datagen_augmented = ImageDataGenerator(\n",
    "        rescale=1./255,        # normalize pixel values to [0,1]\n",
    "        shear_range=0.2,       # randomly applies shearing transformation\n",
    "        zoom_range=0.2,        # randomly applies shearing transformation\n",
    "        horizontal_flip=True)  # randomly flip the images\n",
    "\n",
    "# same code as before\n",
    "train_generator_augmented = train_datagen_augmented.flow_from_directory(\n",
    "        train_data_dir,\n",
    "        target_size=(img_width, img_height),\n",
    "        batch_size=32,\n",
    "        class_mode='binary')"
   ]
  },
  {
   "cell_type": "code",
   "execution_count": 14,
   "metadata": {
    "collapsed": false
   },
   "outputs": [
    {
     "name": "stdout",
     "output_type": "stream",
     "text": [
      "Epoch 1/30\n",
      "2048/2048 [==============================] - 151s - loss: 0.6531 - acc: 0.7007 - val_loss: 0.6143 - val_acc: 0.7055\n",
      "Epoch 2/30\n",
      "2048/2048 [==============================] - 168s - loss: 0.5681 - acc: 0.7017 - val_loss: 0.7068 - val_acc: 0.6971\n",
      "Epoch 3/30\n",
      "2048/2048 [==============================] - 172s - loss: 0.5579 - acc: 0.7222 - val_loss: 0.5997 - val_acc: 0.7115\n",
      "Epoch 4/30\n",
      "2048/2048 [==============================] - 179s - loss: 0.5577 - acc: 0.7305 - val_loss: 0.6089 - val_acc: 0.7296\n",
      "Epoch 5/30\n",
      "2048/2048 [==============================] - 179s - loss: 0.5540 - acc: 0.7178 - val_loss: 0.6233 - val_acc: 0.7043\n",
      "Epoch 6/30\n",
      "2048/2048 [==============================] - 180s - loss: 0.5461 - acc: 0.7261 - val_loss: 0.5648 - val_acc: 0.7091\n",
      "Epoch 7/30\n",
      "2048/2048 [==============================] - 182s - loss: 0.5436 - acc: 0.7280 - val_loss: 0.5907 - val_acc: 0.7151\n",
      "Epoch 8/30\n",
      "2048/2048 [==============================] - 188s - loss: 0.5264 - acc: 0.7407 - val_loss: 0.5352 - val_acc: 0.7452\n",
      "Epoch 9/30\n",
      "2048/2048 [==============================] - 189s - loss: 0.5371 - acc: 0.7368 - val_loss: 0.5839 - val_acc: 0.7380\n",
      "Epoch 10/30\n",
      "2048/2048 [==============================] - 181s - loss: 0.5335 - acc: 0.7407 - val_loss: 0.5741 - val_acc: 0.7344\n",
      "Epoch 11/30\n",
      "2048/2048 [==============================] - 184s - loss: 0.4979 - acc: 0.7598 - val_loss: 0.5766 - val_acc: 0.7608\n",
      "Epoch 12/30\n",
      "2048/2048 [==============================] - 182s - loss: 0.5038 - acc: 0.7617 - val_loss: 0.5471 - val_acc: 0.7344\n",
      "Epoch 13/30\n",
      "2048/2048 [==============================] - 181s - loss: 0.4833 - acc: 0.7651 - val_loss: 0.6065 - val_acc: 0.7536\n",
      "Epoch 14/30\n",
      "2048/2048 [==============================] - 182s - loss: 0.5005 - acc: 0.7598 - val_loss: 0.5235 - val_acc: 0.7632\n",
      "Epoch 15/30\n",
      "2048/2048 [==============================] - 182s - loss: 0.4715 - acc: 0.7876 - val_loss: 0.5593 - val_acc: 0.7392\n",
      "Epoch 16/30\n",
      "2048/2048 [==============================] - 181s - loss: 0.4799 - acc: 0.7681 - val_loss: 0.5409 - val_acc: 0.7416\n",
      "Epoch 17/30\n",
      "2048/2048 [==============================] - 182s - loss: 0.4597 - acc: 0.7861 - val_loss: 0.6052 - val_acc: 0.7380\n",
      "Epoch 18/30\n",
      "2048/2048 [==============================] - 182s - loss: 0.4784 - acc: 0.7607 - val_loss: 0.6230 - val_acc: 0.7416\n",
      "Epoch 19/30\n",
      "2048/2048 [==============================] - 181s - loss: 0.4851 - acc: 0.7871 - val_loss: 0.5312 - val_acc: 0.7644\n",
      "Epoch 20/30\n",
      "2048/2048 [==============================] - 182s - loss: 0.4653 - acc: 0.7896 - val_loss: 0.5746 - val_acc: 0.7584\n",
      "Epoch 21/30\n",
      "2048/2048 [==============================] - 183s - loss: 0.4668 - acc: 0.7764 - val_loss: 0.5826 - val_acc: 0.7356\n",
      "Epoch 22/30\n",
      "2048/2048 [==============================] - 182s - loss: 0.4698 - acc: 0.7891 - val_loss: 0.5347 - val_acc: 0.7692\n",
      "Epoch 23/30\n",
      "2048/2048 [==============================] - 181s - loss: 0.4605 - acc: 0.7939 - val_loss: 0.5702 - val_acc: 0.7488\n",
      "Epoch 24/30\n",
      "2048/2048 [==============================] - 181s - loss: 0.4694 - acc: 0.7900 - val_loss: 0.5383 - val_acc: 0.7464\n",
      "Epoch 25/30\n",
      "2048/2048 [==============================] - 180s - loss: 0.4704 - acc: 0.7871 - val_loss: 0.5663 - val_acc: 0.7680\n",
      "Epoch 26/30\n",
      "2048/2048 [==============================] - 180s - loss: 0.4510 - acc: 0.8037 - val_loss: 0.5416 - val_acc: 0.7584\n",
      "Epoch 27/30\n",
      "2048/2048 [==============================] - 180s - loss: 0.4474 - acc: 0.7896 - val_loss: 0.5719 - val_acc: 0.7488\n",
      "Epoch 28/30\n",
      "2048/2048 [==============================] - 176s - loss: 0.4511 - acc: 0.7954 - val_loss: 0.5415 - val_acc: 0.7560\n",
      "Epoch 29/30\n",
      "2048/2048 [==============================] - 175s - loss: 0.4620 - acc: 0.8013 - val_loss: 0.5137 - val_acc: 0.7692\n",
      "Epoch 30/30\n",
      "2048/2048 [==============================] - 176s - loss: 0.4295 - acc: 0.8042 - val_loss: 0.5185 - val_acc: 0.7548\n"
     ]
    },
    {
     "data": {
      "text/plain": [
       "<keras.callbacks.History at 0x7fa284661890>"
      ]
     },
     "execution_count": 14,
     "metadata": {},
     "output_type": "execute_result"
    }
   ],
   "source": [
    "model.fit_generator(\n",
    "        train_generator_augmented,\n",
    "        samples_per_epoch=nb_train_samples,\n",
    "        nb_epoch=nb_epoch,\n",
    "        validation_data=validation_generator,\n",
    "        nb_val_samples=nb_validation_samples)"
   ]
  },
  {
   "cell_type": "code",
   "execution_count": 15,
   "metadata": {
    "collapsed": false
   },
   "outputs": [],
   "source": [
    "model.save_weights('models/augmented_run_161121_1.h5')"
   ]
  },
  {
   "cell_type": "code",
   "execution_count": 15,
   "metadata": {
    "collapsed": false
   },
   "outputs": [],
   "source": [
    "#model.load_weights('models_trained/augmented_30_epochs.h5')"
   ]
  },
  {
   "cell_type": "markdown",
   "metadata": {},
   "source": [
    "### Evaluating on validation set"
   ]
  },
  {
   "cell_type": "markdown",
   "metadata": {},
   "source": [
    "Computing loss and accuracy :"
   ]
  },
  {
   "cell_type": "code",
   "execution_count": 16,
   "metadata": {
    "collapsed": false
   },
   "outputs": [
    {
     "data": {
      "text/plain": [
       "[0.51852777944161343, 0.75480769230769229]"
      ]
     },
     "execution_count": 16,
     "metadata": {},
     "output_type": "execute_result"
    }
   ],
   "source": [
    "model.evaluate_generator(validation_generator, nb_validation_samples)"
   ]
  },
  {
   "cell_type": "markdown",
   "metadata": {},
   "source": [
    "Evolution of accuracy on training (blue) and validation (green) sets for 1 to 100 epochs :"
   ]
  },
  {
   "cell_type": "markdown",
   "metadata": {},
   "source": [
    "![Accuracy evolution](pictures/scores_with_dataaugmentation.png)"
   ]
  },
  {
   "cell_type": "markdown",
   "metadata": {},
   "source": [
    "**Thanks to data-augmentation, the accuracy on the validation set improved to ~80%**"
   ]
  },
  {
   "cell_type": "markdown",
   "metadata": {},
   "source": [
    "## Using a pre-trained model"
   ]
  },
  {
   "cell_type": "markdown",
   "metadata": {},
   "source": [
    "The process of training a convolutionnal neural network can be very time-consuming and require a lot of datas.  \n",
    "\n",
    "We can go beyond the previous models in terms of performance and efficiency by using a general-purpose, pre-trained image classifier.  This example uses VGG16, a model trained on the ImageNet dataset - which contains millions of images classified in 1000 categories. \n",
    "\n",
    "On top of it, we add a small multi-layer perceptron and we train it on our dataset."
   ]
  },
  {
   "cell_type": "markdown",
   "metadata": {},
   "source": [
    "### VGG16 + small MLP\n",
    "![VGG16 + Dense layers Schema](pictures/vgg16_original.png)"
   ]
  },
  {
   "cell_type": "markdown",
   "metadata": {},
   "source": [
    "#### VGG16 model architecture definition"
   ]
  },
  {
   "cell_type": "code",
   "execution_count": 17,
   "metadata": {
    "collapsed": false
   },
   "outputs": [],
   "source": [
    "model_vgg = Sequential()\n",
    "model_vgg.add(ZeroPadding2D((1, 1), input_shape=(img_width, img_height,3)))\n",
    "model_vgg.add(Convolution2D(64, 3, 3, activation='relu', name='conv1_1'))\n",
    "model_vgg.add(ZeroPadding2D((1, 1)))\n",
    "model_vgg.add(Convolution2D(64, 3, 3, activation='relu', name='conv1_2'))\n",
    "model_vgg.add(MaxPooling2D((2, 2), strides=(2, 2)))\n",
    "\n",
    "model_vgg.add(ZeroPadding2D((1, 1)))\n",
    "model_vgg.add(Convolution2D(128, 3, 3, activation='relu', name='conv2_1'))\n",
    "model_vgg.add(ZeroPadding2D((1, 1)))\n",
    "model_vgg.add(Convolution2D(128, 3, 3, activation='relu', name='conv2_2'))\n",
    "model_vgg.add(MaxPooling2D((2, 2), strides=(2, 2)))\n",
    "\n",
    "model_vgg.add(ZeroPadding2D((1, 1)))\n",
    "model_vgg.add(Convolution2D(256, 3, 3, activation='relu', name='conv3_1'))\n",
    "model_vgg.add(ZeroPadding2D((1, 1)))\n",
    "model_vgg.add(Convolution2D(256, 3, 3, activation='relu', name='conv3_2'))\n",
    "model_vgg.add(ZeroPadding2D((1, 1)))\n",
    "model_vgg.add(Convolution2D(256, 3, 3, activation='relu', name='conv3_3'))\n",
    "model_vgg.add(MaxPooling2D((2, 2), strides=(2, 2)))\n",
    "\n",
    "model_vgg.add(ZeroPadding2D((1, 1)))\n",
    "model_vgg.add(Convolution2D(512, 3, 3, activation='relu', name='conv4_1'))\n",
    "model_vgg.add(ZeroPadding2D((1, 1)))\n",
    "model_vgg.add(Convolution2D(512, 3, 3, activation='relu', name='conv4_2'))\n",
    "model_vgg.add(ZeroPadding2D((1, 1)))\n",
    "model_vgg.add(Convolution2D(512, 3, 3, activation='relu', name='conv4_3'))\n",
    "model_vgg.add(MaxPooling2D((2, 2), strides=(2, 2)))\n",
    "\n",
    "model_vgg.add(ZeroPadding2D((1, 1)))\n",
    "model_vgg.add(Convolution2D(512, 3, 3, activation='relu', name='conv5_1'))\n",
    "model_vgg.add(ZeroPadding2D((1, 1)))\n",
    "model_vgg.add(Convolution2D(512, 3, 3, activation='relu', name='conv5_2'))\n",
    "model_vgg.add(ZeroPadding2D((1, 1)))\n",
    "model_vgg.add(Convolution2D(512, 3, 3, activation='relu', name='conv5_3'))\n",
    "model_vgg.add(MaxPooling2D((2, 2), strides=(2, 2)))"
   ]
  },
  {
   "cell_type": "markdown",
   "metadata": {},
   "source": [
    "#### Loading VGG16 weights\n",
    "This part is a bit complicated because the structure of our model is not exactly the same as the one used when training weights.  \n",
    "Otherwise, we would use the `model.load_weights()` method."
   ]
  },
  {
   "cell_type": "markdown",
   "metadata": {},
   "source": [
    "*Note : the VGG16 weights file (~500MB) is not included in this repository. You can download from here :  \n",
    "https://gist.github.com/baraldilorenzo/07d7802847aaad0a35d3*"
   ]
  },
  {
   "cell_type": "code",
   "execution_count": 18,
   "metadata": {
    "collapsed": false
   },
   "outputs": [],
   "source": [
    "import h5py\n",
    "f = h5py.File('models/vgg/vgg16_weights.h5')\n",
    "for k in range(f.attrs['nb_layers']):\n",
    "    if k >= len(model_vgg.layers) - 1:\n",
    "        # we don't look at the last two layers in the savefile (fully-connected and activation)\n",
    "        break\n",
    "    g = f['layer_{}'.format(k)]\n",
    "    weights = [g['param_{}'.format(p)] for p in range(g.attrs['nb_params'])]\n",
    "    layer = model_vgg.layers[k]\n",
    "\n",
    "    if layer.__class__.__name__ in ['Convolution1D', 'Convolution2D', 'Convolution3D', 'AtrousConvolution2D']:\n",
    "        weights[0] = np.transpose(weights[0], (2, 3, 1, 0))\n",
    "\n",
    "    layer.set_weights(weights)\n",
    "\n",
    "f.close()"
   ]
  },
  {
   "cell_type": "markdown",
   "metadata": {},
   "source": [
    "### Using the VGG16 model to process samples"
   ]
  },
  {
   "cell_type": "code",
   "execution_count": 19,
   "metadata": {
    "collapsed": false
   },
   "outputs": [
    {
     "name": "stdout",
     "output_type": "stream",
     "text": [
      "Found 2048 images belonging to 2 classes.\n",
      "Found 832 images belonging to 2 classes.\n"
     ]
    }
   ],
   "source": [
    "train_generator_bottleneck = datagen.flow_from_directory(\n",
    "        train_data_dir,\n",
    "        target_size=(img_width, img_height),\n",
    "        batch_size=32,\n",
    "        class_mode=None,\n",
    "        shuffle=False)\n",
    "\n",
    "validation_generator_bottleneck = datagen.flow_from_directory(\n",
    "        validation_data_dir,\n",
    "        target_size=(img_width, img_height),\n",
    "        batch_size=32,\n",
    "        class_mode=None,\n",
    "        shuffle=False)"
   ]
  },
  {
   "cell_type": "markdown",
   "metadata": {},
   "source": [
    "This is a long process, so we save the output of the VGG16 once and for all.  "
   ]
  },
  {
   "cell_type": "code",
   "execution_count": 20,
   "metadata": {
    "collapsed": false
   },
   "outputs": [],
   "source": [
    "bottleneck_features_train = model_vgg.predict_generator(train_generator_bottleneck, nb_train_samples)\n",
    "np.save(open('models/bottleneck_features_train.npy', 'wb'), bottleneck_features_train)"
   ]
  },
  {
   "cell_type": "code",
   "execution_count": 21,
   "metadata": {
    "collapsed": false
   },
   "outputs": [],
   "source": [
    "bottleneck_features_validation = model_vgg.predict_generator(validation_generator_bottleneck, nb_validation_samples)\n",
    "np.save(open('models/bottleneck_features_validation.npy', 'wb'), bottleneck_features_validation)"
   ]
  },
  {
   "cell_type": "markdown",
   "metadata": {},
   "source": [
    "Now we can load it..."
   ]
  },
  {
   "cell_type": "code",
   "execution_count": 22,
   "metadata": {
    "collapsed": false
   },
   "outputs": [],
   "source": [
    "train_data = np.load(open('models/bottleneck_features_train.npy', 'rb'))\n",
    "train_labels = np.array([0] * (nb_train_samples // 2) + [1] * (nb_train_samples // 2))\n",
    "\n",
    "validation_data = np.load(open('models/bottleneck_features_validation.npy', 'rb'))\n",
    "validation_labels = np.array([0] * (nb_validation_samples // 2) + [1] * (nb_validation_samples // 2))"
   ]
  },
  {
   "cell_type": "markdown",
   "metadata": {},
   "source": [
    "And define and train the custom fully connected neural network :"
   ]
  },
  {
   "cell_type": "code",
   "execution_count": 23,
   "metadata": {
    "collapsed": false
   },
   "outputs": [],
   "source": [
    "model_top = Sequential()\n",
    "model_top.add(Flatten(input_shape=train_data.shape[1:]))\n",
    "model_top.add(Dense(256, activation='relu'))\n",
    "model_top.add(Dropout(0.5))\n",
    "model_top.add(Dense(1, activation='sigmoid'))\n",
    "\n",
    "model_top.compile(optimizer='rmsprop', loss='binary_crossentropy', metrics=['accuracy'])"
   ]
  },
  {
   "cell_type": "code",
   "execution_count": 24,
   "metadata": {
    "collapsed": false
   },
   "outputs": [
    {
     "name": "stdout",
     "output_type": "stream",
     "text": [
      "Train on 2048 samples, validate on 832 samples\n",
      "Epoch 1/40\n",
      "2048/2048 [==============================] - 5s - loss: 0.8442 - acc: 0.7002 - val_loss: 0.4030 - val_acc: 0.8149\n",
      "Epoch 2/40\n",
      "2048/2048 [==============================] - 4s - loss: 0.4712 - acc: 0.7852 - val_loss: 0.7051 - val_acc: 0.6767\n",
      "Epoch 3/40\n",
      "2048/2048 [==============================] - 4s - loss: 0.3806 - acc: 0.8325 - val_loss: 0.3358 - val_acc: 0.8474\n",
      "Epoch 4/40\n",
      "2048/2048 [==============================] - 4s - loss: 0.3806 - acc: 0.8447 - val_loss: 0.3873 - val_acc: 0.8173\n",
      "Epoch 5/40\n",
      "2048/2048 [==============================] - 4s - loss: 0.2942 - acc: 0.8730 - val_loss: 0.4438 - val_acc: 0.8281\n",
      "Epoch 6/40\n",
      "2048/2048 [==============================] - 5s - loss: 0.2829 - acc: 0.8813 - val_loss: 0.4550 - val_acc: 0.8245\n",
      "Epoch 7/40\n",
      "2048/2048 [==============================] - 5s - loss: 0.2541 - acc: 0.8931 - val_loss: 0.5028 - val_acc: 0.8197\n",
      "Epoch 8/40\n",
      "2048/2048 [==============================] - 5s - loss: 0.2266 - acc: 0.8984 - val_loss: 0.4757 - val_acc: 0.8221\n",
      "Epoch 9/40\n",
      "2048/2048 [==============================] - 5s - loss: 0.2129 - acc: 0.9194 - val_loss: 0.5312 - val_acc: 0.8161\n",
      "Epoch 10/40\n",
      "2048/2048 [==============================] - 5s - loss: 0.1913 - acc: 0.9175 - val_loss: 0.3404 - val_acc: 0.8798\n",
      "Epoch 11/40\n",
      "2048/2048 [==============================] - 6s - loss: 0.1691 - acc: 0.9307 - val_loss: 0.4594 - val_acc: 0.8450\n",
      "Epoch 12/40\n",
      "2048/2048 [==============================] - 8s - loss: 0.1456 - acc: 0.9346 - val_loss: 0.3597 - val_acc: 0.8810\n",
      "Epoch 13/40\n",
      "2048/2048 [==============================] - 8s - loss: 0.1332 - acc: 0.9473 - val_loss: 0.4059 - val_acc: 0.8726\n",
      "Epoch 14/40\n",
      "2048/2048 [==============================] - 8s - loss: 0.1432 - acc: 0.9409 - val_loss: 0.4052 - val_acc: 0.8762\n",
      "Epoch 15/40\n",
      "2048/2048 [==============================] - 8s - loss: 0.1076 - acc: 0.9531 - val_loss: 0.4157 - val_acc: 0.8786\n",
      "Epoch 16/40\n",
      "2048/2048 [==============================] - 8s - loss: 0.1002 - acc: 0.9595 - val_loss: 0.4545 - val_acc: 0.8738\n",
      "Epoch 17/40\n",
      "2048/2048 [==============================] - 8s - loss: 0.0905 - acc: 0.9658 - val_loss: 0.4809 - val_acc: 0.8822\n",
      "Epoch 18/40\n",
      "2048/2048 [==============================] - 8s - loss: 0.0777 - acc: 0.9634 - val_loss: 0.6377 - val_acc: 0.8522\n",
      "Epoch 19/40\n",
      "2048/2048 [==============================] - 8s - loss: 0.0727 - acc: 0.9756 - val_loss: 0.4994 - val_acc: 0.8678\n",
      "Epoch 20/40\n",
      "2048/2048 [==============================] - 8s - loss: 0.0614 - acc: 0.9722 - val_loss: 0.5250 - val_acc: 0.8798\n",
      "Epoch 21/40\n",
      "2048/2048 [==============================] - 8s - loss: 0.0904 - acc: 0.9678 - val_loss: 0.5193 - val_acc: 0.8714\n",
      "Epoch 22/40\n",
      "2048/2048 [==============================] - 8s - loss: 0.0583 - acc: 0.9790 - val_loss: 0.5111 - val_acc: 0.8774\n",
      "Epoch 23/40\n",
      "2048/2048 [==============================] - 8s - loss: 0.0432 - acc: 0.9858 - val_loss: 0.5650 - val_acc: 0.8762\n",
      "Epoch 24/40\n",
      "2048/2048 [==============================] - 8s - loss: 0.0645 - acc: 0.9795 - val_loss: 0.5498 - val_acc: 0.8690\n",
      "Epoch 25/40\n",
      "2048/2048 [==============================] - 8s - loss: 0.0367 - acc: 0.9858 - val_loss: 0.6350 - val_acc: 0.8714\n",
      "Epoch 26/40\n",
      "2048/2048 [==============================] - 8s - loss: 0.0385 - acc: 0.9839 - val_loss: 0.6233 - val_acc: 0.8714\n",
      "Epoch 27/40\n",
      "2048/2048 [==============================] - 8s - loss: 0.0316 - acc: 0.9868 - val_loss: 0.6809 - val_acc: 0.8774\n",
      "Epoch 28/40\n",
      "2048/2048 [==============================] - 8s - loss: 0.0418 - acc: 0.9849 - val_loss: 0.7177 - val_acc: 0.8786\n",
      "Epoch 29/40\n",
      "2048/2048 [==============================] - 8s - loss: 0.0429 - acc: 0.9834 - val_loss: 0.7036 - val_acc: 0.8750\n",
      "Epoch 30/40\n",
      "2048/2048 [==============================] - 8s - loss: 0.0306 - acc: 0.9873 - val_loss: 0.7216 - val_acc: 0.8750\n",
      "Epoch 31/40\n",
      "2048/2048 [==============================] - 8s - loss: 0.0368 - acc: 0.9897 - val_loss: 0.6369 - val_acc: 0.8798\n",
      "Epoch 32/40\n",
      "2048/2048 [==============================] - 8s - loss: 0.0163 - acc: 0.9932 - val_loss: 0.7107 - val_acc: 0.8834\n",
      "Epoch 33/40\n",
      "2048/2048 [==============================] - 8s - loss: 0.0269 - acc: 0.9917 - val_loss: 0.7499 - val_acc: 0.8774\n",
      "Epoch 34/40\n",
      "2048/2048 [==============================] - 8s - loss: 0.0168 - acc: 0.9941 - val_loss: 0.8569 - val_acc: 0.8714\n",
      "Epoch 35/40\n",
      "2048/2048 [==============================] - 8s - loss: 0.0266 - acc: 0.9917 - val_loss: 0.7244 - val_acc: 0.8846\n",
      "Epoch 36/40\n",
      "2048/2048 [==============================] - 8s - loss: 0.0229 - acc: 0.9922 - val_loss: 0.8752 - val_acc: 0.8474\n",
      "Epoch 37/40\n",
      "2048/2048 [==============================] - 8s - loss: 0.0144 - acc: 0.9937 - val_loss: 0.7575 - val_acc: 0.8738\n",
      "Epoch 38/40\n",
      "2048/2048 [==============================] - 9s - loss: 0.0287 - acc: 0.9897 - val_loss: 0.8058 - val_acc: 0.8750\n",
      "Epoch 39/40\n",
      "2048/2048 [==============================] - 8s - loss: 0.0103 - acc: 0.9966 - val_loss: 0.8628 - val_acc: 0.8690\n",
      "Epoch 40/40\n",
      "2048/2048 [==============================] - 9s - loss: 0.0434 - acc: 0.9888 - val_loss: 0.8696 - val_acc: 0.8570\n"
     ]
    },
    {
     "data": {
      "text/plain": [
       "<keras.callbacks.History at 0x7fa2dc389350>"
      ]
     },
     "execution_count": 24,
     "metadata": {},
     "output_type": "execute_result"
    }
   ],
   "source": [
    "nb_epoch=40\n",
    "model_top.fit(train_data, train_labels,\n",
    "          nb_epoch=nb_epoch, batch_size=32,\n",
    "          validation_data=(validation_data, validation_labels))"
   ]
  },
  {
   "cell_type": "markdown",
   "metadata": {},
   "source": [
    "The training process of this small neural network is very fast : ~2s per epoch"
   ]
  },
  {
   "cell_type": "code",
   "execution_count": 25,
   "metadata": {
    "collapsed": false
   },
   "outputs": [],
   "source": [
    "model_top.save_weights('models/bottleneck_40_epochs.h5')"
   ]
  },
  {
   "cell_type": "markdown",
   "metadata": {},
   "source": [
    "### Bottleneck model evaluation"
   ]
  },
  {
   "cell_type": "code",
   "execution_count": 26,
   "metadata": {
    "collapsed": false
   },
   "outputs": [],
   "source": [
    "#model_top.load_weights('models/with-bottleneck/1000-samples--100-epochs.h5')\n",
    "#model_top.load_weights('/notebook/Data1/Code/keras-workshop/models/with-bottleneck/1000-samples--100-epochs.h5')"
   ]
  },
  {
   "cell_type": "markdown",
   "metadata": {},
   "source": [
    "Loss and accuracy :"
   ]
  },
  {
   "cell_type": "code",
   "execution_count": 26,
   "metadata": {
    "collapsed": false
   },
   "outputs": [
    {
     "name": "stdout",
     "output_type": "stream",
     "text": [
      "832/832 [==============================] - 0s     \n"
     ]
    },
    {
     "data": {
      "text/plain": [
       "[0.86961981167013824, 0.85697115384615385]"
      ]
     },
     "execution_count": 26,
     "metadata": {},
     "output_type": "execute_result"
    }
   ],
   "source": [
    "model_top.evaluate(validation_data, validation_labels)"
   ]
  },
  {
   "cell_type": "markdown",
   "metadata": {},
   "source": [
    "Evolution of accuracy on training (blue) and validation (green) sets for 1 to 32 epochs :"
   ]
  },
  {
   "cell_type": "markdown",
   "metadata": {},
   "source": [
    "![Accuracy evolution](pictures/scores_with_bottleneck.png)"
   ]
  },
  {
   "cell_type": "markdown",
   "metadata": {},
   "source": [
    "**We reached a 90% accuracy on the validation after ~1m of training (~20 epochs) and 8% of the samples originally available on the Kaggle competition !**"
   ]
  },
  {
   "cell_type": "code",
   "execution_count": 28,
   "metadata": {
    "collapsed": true
   },
   "outputs": [],
   "source": [
    "##Fine-tuning the top layers of a a pre-trained network"
   ]
  },
  {
   "cell_type": "markdown",
   "metadata": {
    "collapsed": true
   },
   "source": [
    "Start by instantiating the VGG base and loading its weights."
   ]
  },
  {
   "cell_type": "code",
   "execution_count": 30,
   "metadata": {
    "collapsed": true
   },
   "outputs": [],
   "source": [
    "model_vgg = Sequential()\n",
    "model_vgg.add(ZeroPadding2D((1, 1), input_shape=(img_width, img_height,3)))\n",
    "model_vgg.add(Convolution2D(64, 3, 3, activation='relu', name='conv1_1'))\n",
    "model_vgg.add(ZeroPadding2D((1, 1)))\n",
    "model_vgg.add(Convolution2D(64, 3, 3, activation='relu', name='conv1_2'))\n",
    "model_vgg.add(MaxPooling2D((2, 2), strides=(2, 2)))\n",
    "\n",
    "model_vgg.add(ZeroPadding2D((1, 1)))\n",
    "model_vgg.add(Convolution2D(128, 3, 3, activation='relu', name='conv2_1'))\n",
    "model_vgg.add(ZeroPadding2D((1, 1)))\n",
    "model_vgg.add(Convolution2D(128, 3, 3, activation='relu', name='conv2_2'))\n",
    "model_vgg.add(MaxPooling2D((2, 2), strides=(2, 2)))\n",
    "\n",
    "model_vgg.add(ZeroPadding2D((1, 1)))\n",
    "model_vgg.add(Convolution2D(256, 3, 3, activation='relu', name='conv3_1'))\n",
    "model_vgg.add(ZeroPadding2D((1, 1)))\n",
    "model_vgg.add(Convolution2D(256, 3, 3, activation='relu', name='conv3_2'))\n",
    "model_vgg.add(ZeroPadding2D((1, 1)))\n",
    "model_vgg.add(Convolution2D(256, 3, 3, activation='relu', name='conv3_3'))\n",
    "model_vgg.add(MaxPooling2D((2, 2), strides=(2, 2)))\n",
    "\n",
    "model_vgg.add(ZeroPadding2D((1, 1)))\n",
    "model_vgg.add(Convolution2D(512, 3, 3, activation='relu', name='conv4_1'))\n",
    "model_vgg.add(ZeroPadding2D((1, 1)))\n",
    "model_vgg.add(Convolution2D(512, 3, 3, activation='relu', name='conv4_2'))\n",
    "model_vgg.add(ZeroPadding2D((1, 1)))\n",
    "model_vgg.add(Convolution2D(512, 3, 3, activation='relu', name='conv4_3'))\n",
    "model_vgg.add(MaxPooling2D((2, 2), strides=(2, 2)))\n",
    "\n",
    "model_vgg.add(ZeroPadding2D((1, 1)))\n",
    "model_vgg.add(Convolution2D(512, 3, 3, activation='relu', name='conv5_1'))\n",
    "model_vgg.add(ZeroPadding2D((1, 1)))\n",
    "model_vgg.add(Convolution2D(512, 3, 3, activation='relu', name='conv5_2'))\n",
    "model_vgg.add(ZeroPadding2D((1, 1)))\n",
    "model_vgg.add(Convolution2D(512, 3, 3, activation='relu', name='conv5_3'))\n",
    "model_vgg.add(MaxPooling2D((2, 2), strides=(2, 2)))"
   ]
  },
  {
   "cell_type": "code",
   "execution_count": 27,
   "metadata": {
    "collapsed": false
   },
   "outputs": [],
   "source": [
    "import h5py\n",
    "f = h5py.File('models/vgg/vgg16_weights.h5')\n",
    "for k in range(f.attrs['nb_layers']):\n",
    "    if k >= len(model_vgg.layers) - 1:\n",
    "        # we don't look at the last two layers in the savefile (fully-connected and activation)\n",
    "        break\n",
    "    g = f['layer_{}'.format(k)]\n",
    "    weights = [g['param_{}'.format(p)] for p in range(g.attrs['nb_params'])]\n",
    "    layer = model_vgg.layers[k]\n",
    "\n",
    "    if layer.__class__.__name__ in ['Convolution1D', 'Convolution2D', 'Convolution3D', 'AtrousConvolution2D']:\n",
    "        weights[0] = np.transpose(weights[0], (2, 3, 1, 0))\n",
    "\n",
    "    layer.set_weights(weights)\n",
    "\n",
    "f.close()"
   ]
  },
  {
   "cell_type": "markdown",
   "metadata": {},
   "source": [
    "Build a classifier model to put on top of the convolutional model. For the fine tuning, we start with a fully trained-classifer. We will use the weights from the earlier model. And then we will add this model on top of the convolutional base."
   ]
  },
  {
   "cell_type": "code",
   "execution_count": 28,
   "metadata": {
    "collapsed": false
   },
   "outputs": [],
   "source": [
    "top_model = Sequential()\n",
    "top_model.add(Flatten(input_shape=model_vgg.output_shape[1:]))\n",
    "top_model.add(Dense(256, activation='relu'))\n",
    "top_model.add(Dropout(0.5))\n",
    "top_model.add(Dense(1, activation='sigmoid'))\n",
    "\n",
    "top_model.load_weights('models/bottleneck_40_epochs.h5')\n",
    "\n",
    "model_vgg.add(top_model)"
   ]
  },
  {
   "cell_type": "markdown",
   "metadata": {},
   "source": [
    "For fine turning, we only want to train a few layers.  This line will set the first 25 layers (up to the conv block) to non-trainable."
   ]
  },
  {
   "cell_type": "code",
   "execution_count": 29,
   "metadata": {
    "collapsed": false
   },
   "outputs": [],
   "source": [
    "for layer in model_vgg.layers[:25]:\n",
    "    layer.trainable = False"
   ]
  },
  {
   "cell_type": "code",
   "execution_count": 30,
   "metadata": {
    "collapsed": true
   },
   "outputs": [],
   "source": [
    "# compile the model with a SGD/momentum optimizer\n",
    "# and a very slow learning rate.\n",
    "model_vgg.compile(loss='binary_crossentropy',\n",
    "              optimizer=optimizers.SGD(lr=1e-4, momentum=0.9),\n",
    "              metrics=['accuracy'])"
   ]
  },
  {
   "cell_type": "code",
   "execution_count": 31,
   "metadata": {
    "collapsed": false
   },
   "outputs": [
    {
     "name": "stdout",
     "output_type": "stream",
     "text": [
      "Found 2048 images belonging to 2 classes.\n",
      "Found 832 images belonging to 2 classes.\n"
     ]
    }
   ],
   "source": [
    "# prepare data augmentation configuration  . . . do we need this?\n",
    "train_datagen = ImageDataGenerator(\n",
    "        rescale=1./255,\n",
    "        shear_range=0.2,\n",
    "        zoom_range=0.2,\n",
    "        horizontal_flip=True)\n",
    "\n",
    "test_datagen = ImageDataGenerator(rescale=1./255)\n",
    "\n",
    "train_generator = train_datagen.flow_from_directory(\n",
    "        train_data_dir,\n",
    "        target_size=(img_height, img_width),\n",
    "        batch_size=32,\n",
    "        class_mode='binary')\n",
    "\n",
    "validation_generator = test_datagen.flow_from_directory(\n",
    "        validation_data_dir,\n",
    "        target_size=(img_height, img_width),\n",
    "        batch_size=32,\n",
    "        class_mode='binary')"
   ]
  },
  {
   "cell_type": "code",
   "execution_count": null,
   "metadata": {
    "collapsed": false
   },
   "outputs": [
    {
     "name": "stdout",
     "output_type": "stream",
     "text": [
      "Epoch 1/40\n",
      "  96/2048 [>.............................] - ETA: 1639s - loss: 0.5412 - acc: 0.8750"
     ]
    }
   ],
   "source": [
    "# fine-tune the model\n",
    "model_vgg.fit_generator(\n",
    "        train_generator,\n",
    "        samples_per_epoch=nb_train_samples,\n",
    "        nb_epoch=nb_epoch,\n",
    "        validation_data=validation_generator,\n",
    "        nb_val_samples=nb_validation_samples)"
   ]
  },
  {
   "cell_type": "code",
   "execution_count": 37,
   "metadata": {
    "collapsed": true
   },
   "outputs": [],
   "source": [
    "model_vgg.save_weights('models/finetuning_20epochs_vgg.h5')"
   ]
  },
  {
   "cell_type": "code",
   "execution_count": 38,
   "metadata": {
    "collapsed": true
   },
   "outputs": [],
   "source": [
    "model_vgg.load_weights('models/finetuning_20epochs_vgg.h5')"
   ]
  },
  {
   "cell_type": "markdown",
   "metadata": {},
   "source": [
    "### Evaluating on validation set"
   ]
  },
  {
   "cell_type": "markdown",
   "metadata": {},
   "source": [
    "Computing loss and accuracy :"
   ]
  },
  {
   "cell_type": "code",
   "execution_count": 39,
   "metadata": {
    "collapsed": false
   },
   "outputs": [
    {
     "data": {
      "text/plain": [
       "[0.46926221093879295, 0.90384615384615385]"
      ]
     },
     "execution_count": 39,
     "metadata": {},
     "output_type": "execute_result"
    }
   ],
   "source": [
    "model_vgg.evaluate_generator(validation_generator, nb_validation_samples)"
   ]
  },
  {
   "cell_type": "code",
   "execution_count": 40,
   "metadata": {
    "collapsed": false
   },
   "outputs": [
    {
     "data": {
      "text/plain": [
       "[0.69096328031558252, 0.76802884615384615]"
      ]
     },
     "execution_count": 40,
     "metadata": {},
     "output_type": "execute_result"
    }
   ],
   "source": [
    "model.evaluate_generator(validation_generator, nb_validation_samples)"
   ]
  },
  {
   "cell_type": "code",
   "execution_count": 41,
   "metadata": {
    "collapsed": false
   },
   "outputs": [
    {
     "name": "stdout",
     "output_type": "stream",
     "text": [
      "704/832 [========================>.....] - ETA: 0s"
     ]
    },
    {
     "data": {
      "text/plain": [
       "[0.782802758165277, 0.87980769230769229]"
      ]
     },
     "execution_count": 41,
     "metadata": {},
     "output_type": "execute_result"
    }
   ],
   "source": [
    "model_top.evaluate(validation_data, validation_labels)"
   ]
  }
 ],
 "metadata": {
  "anaconda-cloud": {},
  "kernelspec": {
   "display_name": "Python [default]",
   "language": "python",
   "name": "python2"
  },
  "language_info": {
   "codemirror_mode": {
    "name": "ipython",
    "version": 2
   },
   "file_extension": ".py",
   "mimetype": "text/x-python",
   "name": "python",
   "nbconvert_exporter": "python",
   "pygments_lexer": "ipython2",
   "version": "2.7.12"
  }
 },
 "nbformat": 4,
 "nbformat_minor": 1
}
